{
 "cells": [
  {
   "cell_type": "code",
   "execution_count": 4,
   "metadata": {
    "pycharm": {
     "name": "#%%\n"
    }
   },
   "outputs": [],
   "source": [
    "# import pyspark\n",
    "# from pyspark.sql.types import StructType,StructField, StringType, IntegerType\n",
    "# from pyspark.sql.types import ArrayType, DoubleType, BooleanType\n",
    "# from pyspark.sql.functions import col,array_contains"
   ]
  },
  {
   "attachments": {},
   "cell_type": "markdown",
   "metadata": {},
   "source": [
    "se importa SparkSQL"
   ]
  },
  {
   "cell_type": "code",
   "execution_count": 2,
   "metadata": {
    "pycharm": {
     "name": "#%%\n"
    }
   },
   "outputs": [],
   "source": [
    "from pyspark.sql import SparkSession"
   ]
  },
  {
   "cell_type": "code",
   "execution_count": 3,
   "metadata": {
    "pycharm": {
     "name": "#%%\n"
    }
   },
   "outputs": [
    {
     "name": "stderr",
     "output_type": "stream",
     "text": [
      "Setting default log level to \"WARN\".\n",
      "To adjust logging level use sc.setLogLevel(newLevel). For SparkR, use setLogLevel(newLevel).\n"
     ]
    },
    {
     "name": "stdout",
     "output_type": "stream",
     "text": [
      "23/02/27 18:40:43 WARN NativeCodeLoader: Unable to load native-hadoop library for your platform... using builtin-java classes where applicable\n",
      "23/02/27 18:40:44 WARN Utils: Service 'SparkUI' could not bind on port 4040. Attempting port 4041.\n",
      "23/02/27 18:40:44 WARN Utils: Service 'SparkUI' could not bind on port 4041. Attempting port 4042.\n"
     ]
    }
   ],
   "source": [
    "spark = SparkSession.builder.appName('EDA').getOrCreate()"
   ]
  },
  {
   "attachments": {},
   "cell_type": "markdown",
   "metadata": {},
   "source": [
    "Se importan los documentos .csv necesarios para realizar el ejercicio y se leen los campos de cabecera, lo cual indica que contiene columnas con valores nulos"
   ]
  },
  {
   "cell_type": "code",
   "execution_count": 4,
   "metadata": {
    "pycharm": {
     "name": "#%%\n"
    }
   },
   "outputs": [
    {
     "name": "stdout",
     "output_type": "stream",
     "text": [
      "root\n",
      " |-- _c0: string (nullable = true)\n",
      " |-- _c1: string (nullable = true)\n",
      " |-- _c2: string (nullable = true)\n",
      " |-- _c3: string (nullable = true)\n",
      " |-- _c4: string (nullable = true)\n",
      "\n"
     ]
    }
   ],
   "source": [
    "dataframe = spark.read.csv(\"./data/SII_roles_avaluo_table/cod_comunas.csv\")\n",
    "dataframe.printSchema()"
   ]
  },
  {
   "cell_type": "code",
   "execution_count": 5,
   "metadata": {
    "pycharm": {
     "name": "#%%\n"
    }
   },
   "outputs": [
    {
     "name": "stdout",
     "output_type": "stream",
     "text": [
      "root\n",
      " |-- comunaID: string (nullable = true)\n",
      " |-- region: string (nullable = true)\n",
      " |-- comuna: string (nullable = true)\n",
      " |-- n_region: string (nullable = true)\n",
      " |-- name_region: string (nullable = true)\n",
      "\n"
     ]
    }
   ],
   "source": [
    "dataframe2 = spark.read.option(\"header\",True) \\\n",
    "              .csv(\"./data/SII_roles_avaluo_table/cod_comunas.csv\")\n",
    "dataframe2.printSchema()"
   ]
  },
  {
   "attachments": {},
   "cell_type": "markdown",
   "metadata": {},
   "source": [
    "se realiza conversión de documento .csv a tablas (de acuerdo al caracter delimitado por ,) para facilitar el trabajo. Se realiza esto por cada tabla y se imprimen las tablas para visualizar los valores de ellas"
   ]
  },
  {
   "cell_type": "code",
   "execution_count": 5,
   "metadata": {
    "pycharm": {
     "name": "#%%\n"
    }
   },
   "outputs": [
    {
     "name": "stdout",
     "output_type": "stream",
     "text": [
      "root\n",
      " |-- comunaID: string (nullable = true)\n",
      " |-- region: string (nullable = true)\n",
      " |-- comuna: string (nullable = true)\n",
      " |-- n_region: string (nullable = true)\n",
      " |-- name_region: string (nullable = true)\n",
      "\n"
     ]
    }
   ],
   "source": [
    "dataframe3 = spark.read.options(header='True', delimiter=',') \\\n",
    "              .csv(\"./data/SII_roles_avaluo_table/cod_comunas.csv\")\n",
    "dataframe3.printSchema()"
   ]
  },
  {
   "cell_type": "code",
   "execution_count": 7,
   "metadata": {
    "pycharm": {
     "name": "#%%\n"
    }
   },
   "outputs": [
    {
     "name": "stdout",
     "output_type": "stream",
     "text": [
      "+--------+--------------------+--------------------+--------+--------------------+\n",
      "|comunaID|              region|              comuna|n_region|         name_region|\n",
      "+--------+--------------------+--------------------+--------+--------------------+\n",
      "|    1101| 18_DIRECCION_REG...|               ARICA|      18| Regi�n de Arica ...|\n",
      "|    1106| 18_DIRECCION_REG...|           CAMARONES|      18| Regi�n de Arica ...|\n",
      "|    1302| 18_DIRECCION_REG...|       GENERAL LAGOS|      18| Regi�n de Arica ...|\n",
      "|    1301| 18_DIRECCION_REG...|               PUTRE|      18| Regi�n de Arica ...|\n",
      "|    1211| 1_DIRECCION_REGI...|       ALTO HOSPICIO|       1|  Regi�n de Tarapac�|\n",
      "|    1208| 1_DIRECCION_REGI...|              CAMI�A|       1|  Regi�n de Tarapac�|\n",
      "|    1210| 1_DIRECCION_REGI...|            COLCHANE|       1|  Regi�n de Tarapac�|\n",
      "|    1206| 1_DIRECCION_REGI...|               HUARA|       1|  Regi�n de Tarapac�|\n",
      "|    1201| 1_DIRECCION_REGI...|             IQUIQUE|       1|  Regi�n de Tarapac�|\n",
      "|    1203| 1_DIRECCION_REGI...|                PICA|       1|  Regi�n de Tarapac�|\n",
      "|    1204| 1_DIRECCION_REGI...|        POZO ALMONTE|       1|  Regi�n de Tarapac�|\n",
      "|    2201| 2_DIRECCION_REGI...|         ANTOFAGASTA|       2| Regi�n de Antofa...|\n",
      "|    2301| 2_DIRECCION_REGI...|              CALAMA|       2| Regi�n de Antofa...|\n",
      "|    2103| 2_DIRECCION_REGI...|         MAR�A ELENA|       2| Regi�n de Antofa...|\n",
      "|    2203| 2_DIRECCION_REGI...|          MEJILLONES|       2| Regi�n de Antofa...|\n",
      "|    2302| 2_DIRECCION_REGI...|             OLLAG�E|       2| Regi�n de Antofa...|\n",
      "|    2303| 2_DIRECCION_REGI...| SAN PEDRO DE ATA...|       2| Regi�n de Antofa...|\n",
      "|    2206| 2_DIRECCION_REGI...|        SIERRA GORDA|       2| Regi�n de Antofa...|\n",
      "|    2202| 2_DIRECCION_REGI...|              TALTAL|       2| Regi�n de Antofa...|\n",
      "|    2101| 2_DIRECCION_REGI...|           TOCOPILLA|       2| Regi�n de Antofa...|\n",
      "+--------+--------------------+--------------------+--------+--------------------+\n",
      "only showing top 20 rows\n",
      "\n"
     ]
    }
   ],
   "source": [
    "spark.sql(\"SELECT * FROM cod_comunas;\").show()"
   ]
  },
  {
   "attachments": {},
   "cell_type": "markdown",
   "metadata": {},
   "source": [
    "se limpian los datos eliminando la primera columna para facilitar la generación de las queries"
   ]
  },
  {
   "cell_type": "code",
   "execution_count": 8,
   "metadata": {
    "pycharm": {
     "name": "#%%\n"
    }
   },
   "outputs": [],
   "source": [
    "def createTempTablefromCSV(csv_path, table_temp_name):\n",
    "    dataframe = spark.read.options(header='True', delimiter=',', inferSchema= True) \\\n",
    "              .csv(csv_path)\n",
    "    dataframe = dataframe.drop(\"_c0\")\n",
    "    dataframe.printSchema()\n",
    "    dataframe.createOrReplaceTempView(table_temp_name)\n",
    "    return"
   ]
  },
  {
   "cell_type": "code",
   "execution_count": 9,
   "metadata": {
    "pycharm": {
     "name": "#%%\n"
    }
   },
   "outputs": [
    {
     "name": "stdout",
     "output_type": "stream",
     "text": [
      "root\n",
      " |-- comunaID: integer (nullable = true)\n",
      " |-- region: string (nullable = true)\n",
      " |-- comuna: string (nullable = true)\n",
      " |-- n_region: string (nullable = true)\n",
      " |-- name_region: string (nullable = true)\n",
      "\n"
     ]
    }
   ],
   "source": [
    "createTempTablefromCSV(\n",
    "    csv_path=\"./data/SII_roles_avaluo_table/cod_comunas.csv\",\n",
    "    table_temp_name=\"cod_comunas\")"
   ]
  },
  {
   "cell_type": "code",
   "execution_count": 10,
   "metadata": {
    "pycharm": {
     "name": "#%%\n"
    }
   },
   "outputs": [
    {
     "name": "stderr",
     "output_type": "stream",
     "text": [
      "[Stage 6:===>                                                     (1 + 15) / 16]\r"
     ]
    },
    {
     "name": "stdout",
     "output_type": "stream",
     "text": [
      "root\n",
      " |-- cod_comuna: integer (nullable = true)\n",
      " |-- nr_manzana: integer (nullable = true)\n",
      " |-- nr_predial: integer (nullable = true)\n",
      " |-- dir/nomb_predio: string (nullable = true)\n",
      " |-- avaluo_fisc_tot: long (nullable = true)\n",
      " |-- contri_semestral: integer (nullable = true)\n",
      " |-- cod_dest_princ: string (nullable = true)\n",
      " |-- avaluo_exen_prop: long (nullable = true)\n",
      "\n"
     ]
    },
    {
     "name": "stderr",
     "output_type": "stream",
     "text": [
      "                                                                                \r"
     ]
    }
   ],
   "source": [
    "createTempTablefromCSV(\n",
    "    csv_path=\"./data/SII_roles_avaluo_table/rol_agricola.csv\",\n",
    "    table_temp_name=\"rol_agricola\")"
   ]
  },
  {
   "cell_type": "code",
   "execution_count": 11,
   "metadata": {
    "pycharm": {
     "name": "#%%\n"
    }
   },
   "outputs": [
    {
     "name": "stderr",
     "output_type": "stream",
     "text": [
      "[Stage 8:=====================================================>   (15 + 1) / 16]\r"
     ]
    },
    {
     "name": "stdout",
     "output_type": "stream",
     "text": [
      "root\n",
      " |-- cod_comuna: integer (nullable = true)\n",
      " |-- nr_manzana: integer (nullable = true)\n",
      " |-- nr_predial: integer (nullable = true)\n",
      " |-- dir/nomb_predio: string (nullable = true)\n",
      " |-- avaluo_fisc_tot: long (nullable = true)\n",
      " |-- contri_semestral: integer (nullable = true)\n",
      " |-- cod_dest_princ: string (nullable = true)\n",
      " |-- avaluo_exen_prop: long (nullable = true)\n",
      " |-- cod_comuna_rol_bien_comun_1: integer (nullable = true)\n",
      " |-- nro_manzana_rol_bien_comun_1: integer (nullable = true)\n",
      " |-- nr_predio_rol_bien_comun_1: integer (nullable = true)\n",
      " |-- cod_comuna_rol_bien_comun_2: integer (nullable = true)\n",
      " |-- nro_manzana_rol_bien_comun_2: integer (nullable = true)\n",
      " |-- nr_predio_rol_bien_comun_2: integer (nullable = true)\n",
      " |-- sup_total_terreno_prod_m2: integer (nullable = true)\n",
      "\n"
     ]
    },
    {
     "name": "stderr",
     "output_type": "stream",
     "text": [
      "                                                                                \r"
     ]
    }
   ],
   "source": [
    "createTempTablefromCSV(\n",
    "    csv_path=\"./data/SII_roles_avaluo_table/rol_no_agricola.csv\",\n",
    "    table_temp_name=\"rol_no_agricola\")"
   ]
  },
  {
   "cell_type": "code",
   "execution_count": 33,
   "metadata": {
    "pycharm": {
     "name": "#%%\n"
    }
   },
   "outputs": [
    {
     "name": "stderr",
     "output_type": "stream",
     "text": [
      "[Stage 28:==============>                                         (4 + 12) / 16]\r"
     ]
    },
    {
     "name": "stdout",
     "output_type": "stream",
     "text": [
      "root\n",
      " |-- cod_comuna: integer (nullable = true)\n",
      " |-- nr_manzana: integer (nullable = true)\n",
      " |-- nr_predial: integer (nullable = true)\n",
      " |-- corr_lin_prod: integer (nullable = true)\n",
      " |-- cod_material_estruc_const: string (nullable = true)\n",
      " |-- cod_calidad_linea_const: integer (nullable = true)\n",
      " |-- anio_linea_constr: integer (nullable = true)\n",
      " |-- sup_linea_constr_m2/m3: integer (nullable = true)\n",
      " |-- cod_dest_linea_constr: string (nullable = true)\n",
      " |-- cod_cond_especial_linea_constr: string (nullable = true)\n",
      "\n"
     ]
    },
    {
     "name": "stderr",
     "output_type": "stream",
     "text": [
      "                                                                                \r"
     ]
    }
   ],
   "source": [
    "createTempTablefromCSV(\n",
    "    csv_path=\"./data/SII_roles_avaluo_table/terreno_constr_no_agri.csv\",\n",
    "    table_temp_name=\"terreno_constr_no_agri\")"
   ]
  },
  {
   "cell_type": "code",
   "execution_count": 36,
   "metadata": {
    "pycharm": {
     "name": "#%%\n"
    }
   },
   "outputs": [
    {
     "name": "stdout",
     "output_type": "stream",
     "text": [
      "+----------+----------+----------+--------------------+---------------+----------------+--------------+----------------+\n",
      "|cod_comuna|nr_manzana|nr_predial|     dir/nomb_predio|avaluo_fisc_tot|contri_semestral|cod_dest_princ|avaluo_exen_prop|\n",
      "+----------+----------+----------+--------------------+---------------+----------------+--------------+----------------+\n",
      "|      1101|       675|         6|LINEA FFCC TAC   ...|       14175739|               0|             A|        14175739|\n",
      "|      1101|       675|        10|SANTA ROSA       ...|     1109356342|         2786914|             A|        24954042|\n",
      "|      1101|       676|         6|CHINCHORRO       ...|      130704724|          271780|             A|        24954042|\n",
      "|      1101|      1001|         6|CERROS LLUTA LTD ...|      345514803|          823842|             B|        24954042|\n",
      "|      1101|      1001|        39|QUEBRADA ENCANTAD...|         164694|               0|             A|          164694|\n",
      "|      1101|      1001|        45|PAMPA SASCAPA PL ...|       12737275|               0|             A|        12737275|\n",
      "|      1101|      2412|       243|ALTO RAMIREZ PL 1...|        3341665|               0|             A|         3341665|\n",
      "|      1101|      3000|         1|STA ROSA HJ 1 Y 2...|      163107502|          355054|             A|        24954042|\n",
      "|      1101|      3000|         2|ALTILLO          ...|      240514904|          553992|             A|        24954042|\n",
      "|      1101|      3000|         3|PARC STA ANGELA K...|      206051786|          465422|             A|        24954042|\n",
      "|      1101|      3000|         4|SAN ANTONIO KM 33...|      419737507|         1014594|             A|        24954042|\n",
      "|      1101|      3000|         5|SACRISTIA KM 31 V...|      119986898|          244234|             A|        24954042|\n",
      "|      1101|      3000|         7|PC.SAN JUAN LT 1 ...|      112923438|          226082|             A|        24954042|\n",
      "|      1101|      3000|         8|ROSARIO VIEJO VAL...|      319645803|          757358|             A|        24954042|\n",
      "|      1101|      3000|         9|TRES HERMANOS KM ...|       97842656|          187324|             A|        24954042|\n",
      "|      1101|      3000|        10|LA OLGA KM 20 V L...|      275946834|          645052|             A|        24954042|\n",
      "|      1101|      3000|        11|PAMPA GALLINAZ   ...|        5751758|               0|             A|         5751758|\n",
      "|      1101|      3000|        12|CAMPOS FISCALE   ...|        5634375|               0|             A|         5634375|\n",
      "|      1101|      3000|        13|LOTE C           ...|        5869141|               0|             A|         5869141|\n",
      "|      1101|      3000|        14|CENTRO IRRADIACIO...|      225262550|               0|             B|       225262550|\n",
      "+----------+----------+----------+--------------------+---------------+----------------+--------------+----------------+\n",
      "only showing top 20 rows\n",
      "\n"
     ]
    }
   ],
   "source": [
    "spark.sql(\"SELECT * FROM rol_agricola;\").show()"
   ]
  },
  {
   "attachments": {},
   "cell_type": "markdown",
   "metadata": {
    "pycharm": {
     "name": "#%% md\n"
    }
   },
   "source": [
    "# QUERY UNO\n",
    "Por cada comuna sumar el total de las contribuciones semestrles (aquellas contribuciones mayores a 0 y el rol agrícola sea A). \n",
    "Se agrupa por tipo de región y se muestra de mayor a menor contribución semestral"
   ]
  },
  {
   "cell_type": "code",
   "execution_count": 87,
   "metadata": {
    "pycharm": {
     "name": "#%%\n"
    }
   },
   "outputs": [
    {
     "name": "stdout",
     "output_type": "stream",
     "text": [
      "+--------------------+-------------+-----------------------+\n",
      "|         name_region|       comuna|total_contrib_semestral|\n",
      "+--------------------+-------------+-----------------------+\n",
      "| Regi�n Metropoli...|    MELIPILLA|              841081258|\n",
      "|  Regi�n de Los R�os|    R�O BUENO|              701278902|\n",
      "|   Regi�n del Biob�o|  LOS ANGELES|              683634258|\n",
      "| Regi�n Metropoli...|        PAINE|              596352680|\n",
      "| Regi�n de Los Lagos|       OSORNO|              577156140|\n",
      "|    Regi�n del Maule| SAN CLEMENTE|              538904142|\n",
      "|   Regi�n del Biob�o|      MULCH�N|              498592314|\n",
      "| Regi�n Metropoli...|         BUIN|              494186870|\n",
      "| Regi�n de La Ara...|     VICTORIA|              445634720|\n",
      "| Regi�n del Liber...|  CHIMBARONGO|              441050924|\n",
      "|  Regi�n de Los R�os|     LA UNI�N|              419097364|\n",
      "| Regi�n de Los Lagos|    R�O NEGRO|              417473524|\n",
      "| Regi�n de Los Lagos|    PURRANQUE|              414030320|\n",
      "|     Regi�n de �uble|   SAN CARLOS|              410089766|\n",
      "|    Regi�n del Maule|         TENO|              404423362|\n",
      "| Regi�n de Los Lagos| PUERTO OCTAY|              397292508|\n",
      "| Regi�n de La Ara...|       VILC�N|              371189798|\n",
      "| Regi�n del Liber...|        RENGO|              362126062|\n",
      "| Regi�n de Los Lagos|      PUYEHUE|              353426506|\n",
      "|    Regi�n del Maule|       CURIC�|              343529260|\n",
      "+--------------------+-------------+-----------------------+\n",
      "only showing top 20 rows\n",
      "\n"
     ]
    }
   ],
   "source": [
    "SQL = \"SELECT cod_comunas.name_region, cod_comunas.comuna,  SUM(rol_agricola.contri_semestral) AS total_contrib_semestral \" \\\n",
    "      \"FROM cod_comunas INNER JOIN  rol_agricola ON cod_comunas.comunaID = rol_agricola.cod_comuna \" \\\n",
    "      \"WHERE (rol_agricola.contri_semestral > 0) AND (rol_agricola.cod_dest_princ = 'A') \" \\\n",
    "      \"GROUP BY cod_comunas.name_region, cod_comunas.comuna ORDER BY total_contrib_semestral DESC \"\\\n",
    "      \";\"\n",
    "\n",
    "spark.sql(SQL).show()"
   ]
  },
  {
   "attachments": {},
   "cell_type": "markdown",
   "metadata": {
    "pycharm": {
     "name": "#%% md\n"
    }
   },
   "source": [
    "# QUERY DOS\n",
    "seleccionar las comunas de la segunda región y sumar el total de las contribuciones de los roles agrícolas, mostrando en orden descendente y también el nombre de la región"
   ]
  },
  {
   "cell_type": "code",
   "execution_count": 99,
   "metadata": {
    "pycharm": {
     "name": "#%%\n"
    }
   },
   "outputs": [
    {
     "name": "stdout",
     "output_type": "stream",
     "text": [
      "+--------------------+--------------------+-----------------------+\n",
      "|         name_region|              comuna|total_contrib_semestral|\n",
      "+--------------------+--------------------+-----------------------+\n",
      "| Regi�n de Antofa...| SAN PEDRO DE ATA...|                8778278|\n",
      "| Regi�n de Antofa...|         ANTOFAGASTA|                5272548|\n",
      "| Regi�n de Antofa...|              TALTAL|                5007746|\n",
      "| Regi�n de Antofa...|              CALAMA|                4307122|\n",
      "| Regi�n de Antofa...|         MAR�A ELENA|                 121000|\n",
      "| Regi�n de Antofa...|        SIERRA GORDA|                  21254|\n",
      "| Regi�n de Antofa...|          MEJILLONES|                      0|\n",
      "| Regi�n de Antofa...|           TOCOPILLA|                      0|\n",
      "| Regi�n de Antofa...|             OLLAG�E|                      0|\n",
      "+--------------------+--------------------+-----------------------+\n",
      "\n"
     ]
    },
    {
     "name": "stderr",
     "output_type": "stream",
     "text": [
      "                                                                                \r"
     ]
    }
   ],
   "source": [
    "SQL = \"SELECT cod_comunas.name_region, cod_comunas.comuna,  SUM(rol_agricola.contri_semestral) AS total_contrib_semestral \" \\\n",
    "      \"FROM cod_comunas INNER JOIN  rol_agricola ON cod_comunas.comunaID = rol_agricola.cod_comuna \" \\\n",
    "      \"WHERE (cod_comunas.n_region = 2)\" \\\n",
    "      \"GROUP BY cod_comunas.name_region, cod_comunas.comuna ORDER BY total_contrib_semestral DESC \"\\\n",
    "      \";\"\n",
    "spark.sql(SQL).show()"
   ]
  },
  {
   "attachments": {},
   "cell_type": "markdown",
   "metadata": {},
   "source": [
    "# QUERY TRES\n",
    "lo mismo de la query dos, pero para los roles no agrícolas de la segunda región\n"
   ]
  },
  {
   "cell_type": "code",
   "execution_count": 100,
   "metadata": {
    "pycharm": {
     "name": "#%%\n"
    }
   },
   "outputs": [
    {
     "name": "stderr",
     "output_type": "stream",
     "text": [
      "[Stage 140:======>                                                (2 + 14) / 16]\r"
     ]
    },
    {
     "name": "stdout",
     "output_type": "stream",
     "text": [
      "+--------------------+--------------------+-----------------------+\n",
      "|         name_region|              comuna|total_contrib_semestral|\n",
      "+--------------------+--------------------+-----------------------+\n",
      "| Regi�n de Antofa...|         ANTOFAGASTA|            19369774342|\n",
      "| Regi�n de Antofa...|              CALAMA|             7252880618|\n",
      "| Regi�n de Antofa...|          MEJILLONES|             1253149696|\n",
      "| Regi�n de Antofa...|        SIERRA GORDA|              558217478|\n",
      "| Regi�n de Antofa...|           TOCOPILLA|              447653712|\n",
      "| Regi�n de Antofa...|         MAR�A ELENA|              308896368|\n",
      "| Regi�n de Antofa...| SAN PEDRO DE ATA...|              231002214|\n",
      "| Regi�n de Antofa...|              TALTAL|               86723788|\n",
      "| Regi�n de Antofa...|             OLLAG�E|                5028532|\n",
      "+--------------------+--------------------+-----------------------+\n",
      "\n"
     ]
    },
    {
     "name": "stderr",
     "output_type": "stream",
     "text": [
      "                                                                                \r"
     ]
    }
   ],
   "source": [
    "SQL = \"SELECT cod_comunas.name_region, cod_comunas.comuna,  SUM(rol_no_agricola.contri_semestral) AS total_contrib_semestral \" \\\n",
    "      \"FROM cod_comunas INNER JOIN  rol_no_agricola ON cod_comunas.comunaID = rol_no_agricola.cod_comuna \" \\\n",
    "      \"WHERE (cod_comunas.n_region = 2)\" \\\n",
    "      \"GROUP BY cod_comunas.name_region, cod_comunas.comuna ORDER BY total_contrib_semestral DESC \"\\\n",
    "      \";\"\n",
    "spark.sql(SQL).show()"
   ]
  }
 ],
 "metadata": {
  "kernelspec": {
   "display_name": "Python 3 (ipykernel)",
   "language": "python",
   "name": "python3"
  },
  "language_info": {
   "codemirror_mode": {
    "name": "ipython",
    "version": 3
   },
   "file_extension": ".py",
   "mimetype": "text/x-python",
   "name": "python",
   "nbconvert_exporter": "python",
   "pygments_lexer": "ipython3",
   "version": "3.10.10"
  }
 },
 "nbformat": 4,
 "nbformat_minor": 1
}
