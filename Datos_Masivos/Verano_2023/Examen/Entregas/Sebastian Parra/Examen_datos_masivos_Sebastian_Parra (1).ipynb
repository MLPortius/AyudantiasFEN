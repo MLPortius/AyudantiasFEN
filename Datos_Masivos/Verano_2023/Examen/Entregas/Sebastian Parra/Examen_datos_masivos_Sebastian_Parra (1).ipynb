{
 "cells": [
  {
   "cell_type": "markdown",
   "metadata": {
    "id": "AT4GG7Jh0N-_"
   },
   "source": [
    "## **Pregunta 1. Desarrollo**"
   ]
  },
  {
   "cell_type": "markdown",
   "metadata": {
    "id": "Yc2ccT3SpAqI"
   },
   "source": [
    "Pregunta 1. Desarrollo\n",
    "\n",
    "Explique con sus palabras cuáles son las principales diferencias y similitudes entre:\n",
    "\n",
    "Una base de datos transaccional: Es aquella que mantiene información de las transacciones en el corto plazo. Cada operación que ocurre (por ejemplo, en un punto de venta) es inmediatamente insertada dentro de esta base de datos para luego, a través de un ETL(o similares), pasar a un sistema con la información histórica\n",
    "\n",
    "Un Data Warehouse: Es un sistema que almacena, en el mediano-largo plazo, información histórica estandarizada y tabulada. Su estructura está previamente definida y, normalmente, tiene un objetivo y reoles de usuarios bien definidos para propósitos específicos . De un data WH puede salir información para su uso directo\n",
    "\n",
    "Un Data Lake: Un sistema que almacena información, pero esta vez de manera no necesariamente estructurada ni curada. contiene todo tipo de información sin necesidad de una estructura definida ya que puede servir para diferentes propósitos. La data de un Data Lake debe ser curada, seleccionada y estructurada en otros repositorios para su uso\n",
    "\n",
    "Un Lake House: contiene ambas funcionalidades ya que comienza como un Data lake, pero tiene una lógica propia que permite extraer de manera sencilla información relevante. Es como si un Data Lake tuviera una \"hoja de ruta\" dentro de su organismo que indica cómo se relacionan las variables y qué significan, permitiendo que pueda ser usada directamente en un reporte o análisis a la vez que almacena raw data \n",
    "\n",
    "Proponga un ejemplo y caso de uso para cada una de ellas\n",
    "\n",
    "Data WH: el data warehouse de Ventas contiene toda la información necesaria para que ese equipo, en concreto, funcione, para lograr objetivos ya definidos\n",
    "\n",
    "Data Lake: un repositorio con millones de transacciones en POS, cambios de tarifas, movimientos de usuarios, logs, GPS, y capturas de video de vigilancia. Si bien su uso no está definido, un ingeniero de datos podría construir un ETL desde este para crear datamarts para un propósito específico de negocio\n",
    "\n",
    "Data Lake House: comenzamos con el mismo ejemplo del Data Lake, pero esta vez los ETL están insertos en la lógica del lake house, por lo que no es necesario mover la data a otro repositorio. Las lógicas permiten también identificas qué usuarios ingresan a qué data y con qué propósito, minimizando la duplicidad de tener varios datamarts con información similar o el trabajo en silo del DWH."
   ]
  },
  {
   "cell_type": "markdown",
   "metadata": {
    "id": "ImdS-aiF0JWI"
   },
   "source": [
    "## **Pregunta 2. Desarrollo**"
   ]
  },
  {
   "cell_type": "markdown",
   "metadata": {
    "id": "JsOMKWg-tYr1"
   },
   "source": [
    "Pregunta 2. Desarrollo\n",
    "\n",
    "Explique con sus palabras cuales son los drivers o causas que hacen necesario la utilización de “clústers de computadoras”\n",
    "\n",
    "los clústers vienen a resolver un tipo de problema que surge por el big data, lo cual es una gran cantidad de datos dispersos y no estructurados. La nacesidad es poder trabajar y analizar estas grandes cantidades de datos de manera paralela y distribuída tanto en su almacenaje como en su procesamiento, donde un solo computador demoraría mucho tiempo en procesar o, incluso, no tendría la capacidad de \"retener\" el análisis hasta una vez completado el procesamiento de todos los datos. Una distribución eficiente permite aprovechar al máximo cada CPU y GPU de las computadoras del clúster sin perder la comunicación de los análisis individuales para lograr consolidarlos sin problema.\n",
    "\n",
    "Refiérase especialmente al uso de HPC (clústers intensivos en cómputo) vs al uso de clústers para Big Data (tipo Hadoop o Spark)\n",
    "\n",
    "Si bien en ambos se resuelven problemas de gran cantidad de datos, en los HPC se busca que exista un clúster explusivo para el procesamiento, el cual llama a la data y la va procesando en la medida que llega. A diferencia de los clústers tipo mapreduce/hadoop/spark, donde el código es ejecutado dentro de los mismos nodos que almacenan la información, distribuyendola y consolidando el análisis al final\n",
    "\n",
    "Proponga un ejemplo o caso de uso para cada uno de ellos.\n",
    "\n",
    "en HPC: un ejemplo es que existe gran cantidad de información y, además, es muy complejo el modelo de análisis que se está utilizando. Cuando un modelo e scomplejo y pesado, es mejor llevar la data hacia un lugar dedicado al cálculo\n",
    "\n",
    "en MapReduce/Hadoop/Spark: puede existir aún más data, incluso no estructurada, pero el modelo/código que la va a procesar no es pesado, sino más bien simple (comparado con el anterior), entonces podría ser mejor que cada nodo del clúster (que almacena Y ejecuta, osea, no es dedicado) trabaje con una porción de la información y luego consolide el análisis\n"
   ]
  },
  {
   "cell_type": "markdown",
   "metadata": {
    "id": "nx5Ubx6b0C8Y"
   },
   "source": [
    "## **Pregunta 3. Ejercicio EDA con Spark SQL**"
   ]
  },
  {
   "cell_type": "markdown",
   "metadata": {
    "id": "q5LMOkrEyRhX"
   },
   "source": [
    "\n",
    "\n",
    "Utilizando Apache Spark (en Colab, o DataBricks, o local, …), las librerías de SparkSQL y el dataset SII_roles_avaluo_table.zip\n",
    "\n",
    "Escriba 3 nuevas consultas (queries) a la data:\n",
    "\n",
    "Debe usar a lo menos un Left Join\n",
    "\n",
    "Debe usar a lo menos un GroupBy\n",
    "\n",
    "Debe usar un a lo menos Where con dos condiciones\n",
    "\n",
    "Debe ordenar sus resultados de manera descendiente\n"
   ]
  },
  {
   "cell_type": "markdown",
   "metadata": {
    "id": "pel7HIqd1Cyn"
   },
   "source": [
    "## **Instalación**\n",
    "\n",
    "Instalamos el ambiente de openjdk y spark"
   ]
  },
  {
   "cell_type": "code",
   "execution_count": 3,
   "metadata": {
    "id": "6VZn5HRB00sP"
   },
   "outputs": [],
   "source": [
    "!apt-get install openjdk-8-jdk-headless -qq > /dev/null\n",
    "!wget -q http://archive.apache.org/dist/spark/spark-3.1.1/spark-3.1.1-bin-hadoop3.2.tgz\n",
    "!tar xf spark-3.1.1-bin-hadoop3.2.tgz\n",
    "!pip install -q findspark\n",
    "import os\n"
   ]
  },
  {
   "cell_type": "markdown",
   "metadata": {
    "id": "PEbMeSsp1n85"
   },
   "source": [
    "## **Configuramos**"
   ]
  },
  {
   "cell_type": "code",
   "execution_count": 4,
   "metadata": {
    "colab": {
     "base_uri": "https://localhost:8080/",
     "height": 219
    },
    "id": "LuQC8xBi06H3",
    "outputId": "e1e91081-cdf8-445b-dd17-8990bfa40345"
   },
   "outputs": [
    {
     "data": {
      "text/html": [
       "\n",
       "            <div>\n",
       "                <p><b>SparkSession - in-memory</b></p>\n",
       "                \n",
       "        <div>\n",
       "            <p><b>SparkContext</b></p>\n",
       "\n",
       "            <p><a href=\"http://4674367161c5:4040\">Spark UI</a></p>\n",
       "\n",
       "            <dl>\n",
       "              <dt>Version</dt>\n",
       "                <dd><code>v3.1.1</code></dd>\n",
       "              <dt>Master</dt>\n",
       "                <dd><code>local[2]</code></dd>\n",
       "              <dt>AppName</dt>\n",
       "                <dd><code>Colab</code></dd>\n",
       "            </dl>\n",
       "        </div>\n",
       "        \n",
       "            </div>\n",
       "        "
      ],
      "text/plain": [
       "<pyspark.sql.session.SparkSession at 0x7fa7717e1f40>"
      ]
     },
     "execution_count": 4,
     "metadata": {},
     "output_type": "execute_result"
    }
   ],
   "source": [
    "import os\n",
    "os.environ[\"JAVA_HOME\"] = \"/usr/lib/jvm/java-8-openjdk-amd64\"\n",
    "os.environ[\"SPARK_HOME\"] = \"/content/spark-3.1.1-bin-hadoop3.2\"\n",
    "\n",
    "import findspark\n",
    "findspark.init()\n",
    "from pyspark.sql import SparkSession\n",
    "spark = SparkSession.builder\\\n",
    ".master(\"local[2]\")\\\n",
    ".appName(\"Colab\")\\\n",
    ".config('spark.driver.memory', '10g')\\\n",
    ".config('spark.ui.port', '4040')\\\n",
    ".getOrCreate()\n",
    "\n",
    "#Comprobamos\n",
    "spark"
   ]
  },
  {
   "cell_type": "markdown",
   "metadata": {
    "id": "zNKDZmAK2Nc3"
   },
   "source": [
    "## **Carga de data**"
   ]
  },
  {
   "cell_type": "code",
   "execution_count": 5,
   "metadata": {
    "colab": {
     "base_uri": "https://localhost:8080/"
    },
    "id": "IIYDQCfP2ShJ",
    "outputId": "c2eea652-dfe0-4cbb-dca0-4ad9b06ea1ed"
   },
   "outputs": [
    {
     "name": "stdout",
     "output_type": "stream",
     "text": [
      "--2023-03-17 00:02:45--  https://www.dropbox.com/s/ianxkffu14dp0ru/SII_roles_avaluo_table.zip\n",
      "Resolving www.dropbox.com (www.dropbox.com)... 162.125.6.18, 2620:100:6019:18::a27d:412\n",
      "Connecting to www.dropbox.com (www.dropbox.com)|162.125.6.18|:443... connected.\n",
      "HTTP request sent, awaiting response... 302 Found\n",
      "Location: /s/raw/ianxkffu14dp0ru/SII_roles_avaluo_table.zip [following]\n",
      "--2023-03-17 00:02:45--  https://www.dropbox.com/s/raw/ianxkffu14dp0ru/SII_roles_avaluo_table.zip\n",
      "Reusing existing connection to www.dropbox.com:443.\n",
      "HTTP request sent, awaiting response... 302 Found\n",
      "Location: https://ucbdb8e62f3a937fbd29be5aa8c5.dl.dropboxusercontent.com/cd/0/inline/B4a_8FE2fndqfEtGfZCtytIEUs0gxrVagL5RQHSs4l4LXICT_wxZk4BeqdZOnYUSczA8u1y4IDneP-DOKhxKbtHnGYDm20Crt50IhhBhioOwqkYjVkBGQFFF0PPLdY9Esasnwgs2cjU4-G2cWLtTwX6c78pOA__7HOv_4ZW0MEJm3A/file# [following]\n",
      "--2023-03-17 00:02:45--  https://ucbdb8e62f3a937fbd29be5aa8c5.dl.dropboxusercontent.com/cd/0/inline/B4a_8FE2fndqfEtGfZCtytIEUs0gxrVagL5RQHSs4l4LXICT_wxZk4BeqdZOnYUSczA8u1y4IDneP-DOKhxKbtHnGYDm20Crt50IhhBhioOwqkYjVkBGQFFF0PPLdY9Esasnwgs2cjU4-G2cWLtTwX6c78pOA__7HOv_4ZW0MEJm3A/file\n",
      "Resolving ucbdb8e62f3a937fbd29be5aa8c5.dl.dropboxusercontent.com (ucbdb8e62f3a937fbd29be5aa8c5.dl.dropboxusercontent.com)... 162.125.4.15, 2620:100:6019:15::a27d:40f\n",
      "Connecting to ucbdb8e62f3a937fbd29be5aa8c5.dl.dropboxusercontent.com (ucbdb8e62f3a937fbd29be5aa8c5.dl.dropboxusercontent.com)|162.125.4.15|:443... connected.\n",
      "HTTP request sent, awaiting response... 302 Found\n",
      "Location: /cd/0/inline2/B4b0VarNEIM70j-tOHZodvZOnDK6yIvRF-AkKUOMFSrX45A-lZCisXvNbpGGDIis7HRQKOmi6SL0VNYLe7C3u5er10awMKRTzPEEizRpNuZV7RZLbuFDRHuPnT_yzXoiitg58KiaQAvN7aawfJBqIr8R34e_RmXR_aI2S34q56meAuspXSVQ09QgkUgX8TUVhGcnfkf38TIkD1Bl02jXRhZmP5Tb5BXyycK9dh-VS-GEK56ktXORT2Mi1lRG3umbXH9vEA4Y9smLWqsr2DUG3A3ZP061_KeDrWofVS1YsrC-7kGmsz4M3I0JUo63YCtNZY2H91LMqjCqyUtPxbm2tZwmdYGUyUthvcqrLoTQo7ZxzNZgVTyTZ4U7qoExGOMzwxx3cGkN3DzCS4MiWkBCB75C0GdKnZiBUneLnFgL_EUPgQ/file [following]\n",
      "--2023-03-17 00:02:45--  https://ucbdb8e62f3a937fbd29be5aa8c5.dl.dropboxusercontent.com/cd/0/inline2/B4b0VarNEIM70j-tOHZodvZOnDK6yIvRF-AkKUOMFSrX45A-lZCisXvNbpGGDIis7HRQKOmi6SL0VNYLe7C3u5er10awMKRTzPEEizRpNuZV7RZLbuFDRHuPnT_yzXoiitg58KiaQAvN7aawfJBqIr8R34e_RmXR_aI2S34q56meAuspXSVQ09QgkUgX8TUVhGcnfkf38TIkD1Bl02jXRhZmP5Tb5BXyycK9dh-VS-GEK56ktXORT2Mi1lRG3umbXH9vEA4Y9smLWqsr2DUG3A3ZP061_KeDrWofVS1YsrC-7kGmsz4M3I0JUo63YCtNZY2H91LMqjCqyUtPxbm2tZwmdYGUyUthvcqrLoTQo7ZxzNZgVTyTZ4U7qoExGOMzwxx3cGkN3DzCS4MiWkBCB75C0GdKnZiBUneLnFgL_EUPgQ/file\n",
      "Reusing existing connection to ucbdb8e62f3a937fbd29be5aa8c5.dl.dropboxusercontent.com:443.\n",
      "HTTP request sent, awaiting response... 200 OK\n",
      "Length: 201075932 (192M) [application/zip]\n",
      "Saving to: ‘SII_roles_avaluo_table.zip.1’\n",
      "\n",
      "SII_roles_avaluo_ta 100%[===================>] 191.76M   149MB/s    in 1.3s    \n",
      "\n",
      "2023-03-17 00:02:47 (149 MB/s) - ‘SII_roles_avaluo_table.zip.1’ saved [201075932/201075932]\n",
      "\n",
      "Archive:  SII_roles_avaluo_table.zip\n",
      "  inflating: terreno_constr_no_agri.csv  \n",
      "  inflating: rol_agricola.csv        \n",
      "  inflating: rol_no_agricola.csv     \n",
      "  inflating: cod_comunas.csv         \n"
     ]
    }
   ],
   "source": [
    "!wget https://www.dropbox.com/s/ianxkffu14dp0ru/SII_roles_avaluo_table.zip\n",
    "!unzip -o SII_roles_avaluo_table.zip\n"
   ]
  },
  {
   "cell_type": "code",
   "execution_count": 8,
   "metadata": {
    "colab": {
     "base_uri": "https://localhost:8080/"
    },
    "id": "BKl_i6oC5ENK",
    "outputId": "3c0fcbd4-5548-479c-a15d-ac818b62e452"
   },
   "outputs": [
    {
     "name": "stdout",
     "output_type": "stream",
     "text": [
      "cod_comunas.csv      SII_roles_avaluo_table.zip     spark-warehouse\n",
      "rol_agricola.csv     SII_roles_avaluo_table.zip.1   terreno_constr_no_agri.csv\n",
      "rol_no_agricola.csv  spark-3.1.1-bin-hadoop3.2\n",
      "sample_data\t     spark-3.1.1-bin-hadoop3.2.tgz\n"
     ]
    }
   ],
   "source": []
  },
  {
   "cell_type": "code",
   "execution_count": 13,
   "metadata": {
    "colab": {
     "base_uri": "https://localhost:8080/"
    },
    "id": "t1KCS4oo2mSf",
    "outputId": "69111e0b-695f-4e82-eb13-fb91d9ac5516"
   },
   "outputs": [
    {
     "name": "stdout",
     "output_type": "stream",
     "text": [
      "root\n",
      " |-- _c0: integer (nullable = true)\n",
      " |-- cod_comuna: integer (nullable = true)\n",
      " |-- nr_manzana: integer (nullable = true)\n",
      " |-- nr_predial: integer (nullable = true)\n",
      " |-- dir/nomb_predio: string (nullable = true)\n",
      " |-- avaluo_fisc_tot: long (nullable = true)\n",
      " |-- contri_semestral: integer (nullable = true)\n",
      " |-- cod_dest_princ: string (nullable = true)\n",
      " |-- avaluo_exen_prop: long (nullable = true)\n",
      " |-- cod_comuna_rol_bien_comun_1: integer (nullable = true)\n",
      " |-- nro_manzana_rol_bien_comun_1: integer (nullable = true)\n",
      " |-- nr_predio_rol_bien_comun_1: integer (nullable = true)\n",
      " |-- cod_comuna_rol_bien_comun_2: integer (nullable = true)\n",
      " |-- nro_manzana_rol_bien_comun_2: integer (nullable = true)\n",
      " |-- nr_predio_rol_bien_comun_2: integer (nullable = true)\n",
      " |-- sup_total_terreno_prod_m2: integer (nullable = true)\n",
      "\n",
      "+---+----------+----------+----------+--------------------+---------------+----------------+--------------+----------------+---------------------------+----------------------------+--------------------------+---------------------------+----------------------------+--------------------------+-------------------------+\n",
      "|_c0|cod_comuna|nr_manzana|nr_predial|     dir/nomb_predio|avaluo_fisc_tot|contri_semestral|cod_dest_princ|avaluo_exen_prop|cod_comuna_rol_bien_comun_1|nro_manzana_rol_bien_comun_1|nr_predio_rol_bien_comun_1|cod_comuna_rol_bien_comun_2|nro_manzana_rol_bien_comun_2|nr_predio_rol_bien_comun_2|sup_total_terreno_prod_m2|\n",
      "+---+----------+----------+----------+--------------------+---------------+----------------+--------------+----------------+---------------------------+----------------------------+--------------------------+---------------------------+----------------------------+--------------------------+-------------------------+\n",
      "|  0|      1101|         1|         4|M LIRA 315       ...|      190292739|               0|             O|       190292739|                          0|                           0|                         0|                          0|                           0|                         0|                      926|\n",
      "|  1|      1101|         1|         5|M LIRA 315       ...|       84409669|               0|             O|        84409669|                          0|                           0|                         0|                          0|                           0|                         0|                      566|\n",
      "|  2|      1101|         1|         6|M LIRA 315       ...|       24175492|               0|             O|        24175492|                          0|                           0|                         0|                          0|                           0|                         0|                      126|\n",
      "|  3|      1101|         1|         8|M LIRA S/N TERMIN...|     1163710026|         6476048|             C|               0|                          0|                           0|                         0|                          0|                           0|                         0|                     8025|\n",
      "|  4|      1101|         1|        10|MAXIMO LIRA 389  ...|      466902419|         2598314|             O|               0|                          0|                           0|                         0|                          0|                           0|                         0|                     1588|\n",
      "|  5|      1101|         1|        12|TERMINAL PESQUERO...|       35133104|               0|             C|        35133104|                          0|                           0|                         0|                          0|                           0|                         0|                      211|\n",
      "|  6|      1101|         1|        13|M LIRA S/N EXPL T...|       26082561|          145150|             C|               0|                          0|                           0|                         0|                          0|                           0|                         0|                      157|\n",
      "|  7|      1101|         1|        15|MUELLE PESQUER   ...|       22332610|          124282|             C|               0|                          0|                           0|                         0|                          0|                           0|                         0|                      130|\n",
      "|  8|      1101|         1|        17|M LIRA S/N EXPL T...|       14080594|           98994|             V|               0|                          0|                           0|                         0|                          0|                           0|                         0|                      101|\n",
      "|  9|      1101|         1|        18|M LIRA S/N CONCES...|     2860381387|        15938660|             V|               0|                          0|                           0|                         0|                          0|                           0|                         0|                    10747|\n",
      "+---+----------+----------+----------+--------------------+---------------+----------------+--------------+----------------+---------------------------+----------------------------+--------------------------+---------------------------+----------------------------+--------------------------+-------------------------+\n",
      "\n"
     ]
    }
   ],
   "source": [
    "#noagricola\n",
    "noagricola_sp = spark.read.csv(\"rol_no_agricola.csv\",header=True, inferSchema=True)\n",
    "noagricola_sp.printSchema()\n",
    "noagricola_sp.count() # contar filas\n",
    "noagricola_sp.createOrReplaceTempView(\"noagricola_view\")\n",
    "spark.sql(\"select * from noagricola_view limit 10\").show() # mostrar 10 primeros datos"
   ]
  },
  {
   "cell_type": "code",
   "execution_count": 12,
   "metadata": {
    "colab": {
     "base_uri": "https://localhost:8080/"
    },
    "id": "rEAyK_ij3Uid",
    "outputId": "ad13d6bb-21c8-48d2-9c55-7457371f799a"
   },
   "outputs": [
    {
     "name": "stdout",
     "output_type": "stream",
     "text": [
      "root\n",
      " |-- comunaID: integer (nullable = true)\n",
      " |-- region: string (nullable = true)\n",
      " |-- comuna: string (nullable = true)\n",
      " |-- n_region: string (nullable = true)\n",
      " |-- name_region: string (nullable = true)\n",
      "\n",
      "+--------+--------------------+--------------+--------+--------------------+\n",
      "|comunaID|              region|        comuna|n_region|         name_region|\n",
      "+--------+--------------------+--------------+--------+--------------------+\n",
      "|    1101| 18_DIRECCION_REG...|         ARICA|      18| Región de Arica ...|\n",
      "|    1106| 18_DIRECCION_REG...|     CAMARONES|      18| Región de Arica ...|\n",
      "|    1302| 18_DIRECCION_REG...| GENERAL LAGOS|      18| Región de Arica ...|\n",
      "|    1301| 18_DIRECCION_REG...|         PUTRE|      18| Región de Arica ...|\n",
      "|    1211| 1_DIRECCION_REGI...| ALTO HOSPICIO|       1|  Región de Tarapacá|\n",
      "|    1208| 1_DIRECCION_REGI...|        CAMIÑA|       1|  Región de Tarapacá|\n",
      "|    1210| 1_DIRECCION_REGI...|      COLCHANE|       1|  Región de Tarapacá|\n",
      "|    1206| 1_DIRECCION_REGI...|         HUARA|       1|  Región de Tarapacá|\n",
      "|    1201| 1_DIRECCION_REGI...|       IQUIQUE|       1|  Región de Tarapacá|\n",
      "|    1203| 1_DIRECCION_REGI...|          PICA|       1|  Región de Tarapacá|\n",
      "+--------+--------------------+--------------+--------+--------------------+\n",
      "\n"
     ]
    }
   ],
   "source": [
    "#cod_comunas\n",
    "cod_comunas_sp = spark.read.csv(\"cod_comunas.csv\",header=True, inferSchema=True,sep=',',encoding='Windows-1252')\n",
    "cod_comunas_sp.printSchema()\n",
    "cod_comunas_sp.createOrReplaceTempView(\"comunas_view\")\n",
    "spark.sql(\"select * from comunas_view limit 10\").show()"
   ]
  },
  {
   "cell_type": "markdown",
   "metadata": {
    "id": "OvEGo4cY6Laq"
   },
   "source": [
    "### **Consulta 1**"
   ]
  },
  {
   "cell_type": "code",
   "execution_count": 15,
   "metadata": {
    "colab": {
     "base_uri": "https://localhost:8080/"
    },
    "id": "JHeDEw186EVG",
    "outputId": "ff3d2aeb-a3d1-45a3-9dc2-2970f241a120"
   },
   "outputs": [
    {
     "name": "stdout",
     "output_type": "stream",
     "text": [
      "+---+----------+----------+----------+--------------------+---------------+----------------+--------------+----------------+---------------------------+----------------------------+--------------------------+---------------------------+----------------------------+--------------------------+-------------------------+--------+--------------------+------+--------+--------------------+\n",
      "|_c0|cod_comuna|nr_manzana|nr_predial|     dir/nomb_predio|avaluo_fisc_tot|contri_semestral|cod_dest_princ|avaluo_exen_prop|cod_comuna_rol_bien_comun_1|nro_manzana_rol_bien_comun_1|nr_predio_rol_bien_comun_1|cod_comuna_rol_bien_comun_2|nro_manzana_rol_bien_comun_2|nr_predio_rol_bien_comun_2|sup_total_terreno_prod_m2|comunaID|              region|comuna|n_region|         name_region|\n",
      "+---+----------+----------+----------+--------------------+---------------+----------------+--------------+----------------+---------------------------+----------------------------+--------------------------+---------------------------+----------------------------+--------------------------+-------------------------+--------+--------------------+------+--------+--------------------+\n",
      "|  0|      1101|         1|         4|M LIRA 315       ...|      190292739|               0|             O|       190292739|                          0|                           0|                         0|                          0|                           0|                         0|                      926|    1101| 18_DIRECCION_REG...| ARICA|      18| Región de Arica ...|\n",
      "|  1|      1101|         1|         5|M LIRA 315       ...|       84409669|               0|             O|        84409669|                          0|                           0|                         0|                          0|                           0|                         0|                      566|    1101| 18_DIRECCION_REG...| ARICA|      18| Región de Arica ...|\n",
      "|  2|      1101|         1|         6|M LIRA 315       ...|       24175492|               0|             O|        24175492|                          0|                           0|                         0|                          0|                           0|                         0|                      126|    1101| 18_DIRECCION_REG...| ARICA|      18| Región de Arica ...|\n",
      "|  3|      1101|         1|         8|M LIRA S/N TERMIN...|     1163710026|         6476048|             C|               0|                          0|                           0|                         0|                          0|                           0|                         0|                     8025|    1101| 18_DIRECCION_REG...| ARICA|      18| Región de Arica ...|\n",
      "|  4|      1101|         1|        10|MAXIMO LIRA 389  ...|      466902419|         2598314|             O|               0|                          0|                           0|                         0|                          0|                           0|                         0|                     1588|    1101| 18_DIRECCION_REG...| ARICA|      18| Región de Arica ...|\n",
      "|  5|      1101|         1|        12|TERMINAL PESQUERO...|       35133104|               0|             C|        35133104|                          0|                           0|                         0|                          0|                           0|                         0|                      211|    1101| 18_DIRECCION_REG...| ARICA|      18| Región de Arica ...|\n",
      "|  6|      1101|         1|        13|M LIRA S/N EXPL T...|       26082561|          145150|             C|               0|                          0|                           0|                         0|                          0|                           0|                         0|                      157|    1101| 18_DIRECCION_REG...| ARICA|      18| Región de Arica ...|\n",
      "|  7|      1101|         1|        15|MUELLE PESQUER   ...|       22332610|          124282|             C|               0|                          0|                           0|                         0|                          0|                           0|                         0|                      130|    1101| 18_DIRECCION_REG...| ARICA|      18| Región de Arica ...|\n",
      "|  8|      1101|         1|        17|M LIRA S/N EXPL T...|       14080594|           98994|             V|               0|                          0|                           0|                         0|                          0|                           0|                         0|                      101|    1101| 18_DIRECCION_REG...| ARICA|      18| Región de Arica ...|\n",
      "|  9|      1101|         1|        18|M LIRA S/N CONCES...|     2860381387|        15938660|             V|               0|                          0|                           0|                         0|                          0|                           0|                         0|                    10747|    1101| 18_DIRECCION_REG...| ARICA|      18| Región de Arica ...|\n",
      "| 10|      1101|         1|        19|M.LIRA S/N ARRIEN...|       92898700|          516982|             L|               0|                          0|                           0|                         0|                          0|                           0|                         0|                      800|    1101| 18_DIRECCION_REG...| ARICA|      18| Región de Arica ...|\n",
      "| 11|      1101|         1|        20|M.LIRA S/N MUELLE...|    12109724064|        67390616|             T|               0|                          0|                           0|                         0|                          0|                           0|                         0|                    74873|    1101| 18_DIRECCION_REG...| ARICA|      18| Región de Arica ...|\n",
      "| 12|      1101|         1|        21|M LIRA S/N CONCES...|    32080750604|       178529378|             T|               0|                          0|                           0|                         0|                          0|                           0|                         0|                   211195|    1101| 18_DIRECCION_REG...| ARICA|      18| Región de Arica ...|\n",
      "| 13|      1101|         1|        22|M LIRA S/N MUELLE...|     3175628478|        17672374|             T|               0|                          0|                           0|                         0|                          0|                           0|                         0|                    24006|    1101| 18_DIRECCION_REG...| ARICA|      18| Región de Arica ...|\n",
      "| 14|      1101|         1|        23|M LIRA S/N EXPL T...|       23654089|               0|             W|        23654089|                          0|                           0|                         0|                          0|                           0|                         0|                      224|    1101| 18_DIRECCION_REG...| ARICA|      18| Región de Arica ...|\n",
      "| 15|      1101|         2|         3|CDTE SAN MARTIN 1...|     2997192850|               0|             O|      2997192850|                       1101|                           2|                     90003|                          0|                           0|                         0|                        0|    1101| 18_DIRECCION_REG...| ARICA|      18| Región de Arica ...|\n",
      "| 16|      1101|         2|         4|CDTE SAN MARTIN 1...|      294281580|               0|             O|       294281580|                       1101|                           2|                     90003|                          0|                           0|                         0|                        0|    1101| 18_DIRECCION_REG...| ARICA|      18| Región de Arica ...|\n",
      "| 17|      1101|         2|         5|CDTE SAN MARTIN 1...|      294281580|         1637678|             O|               0|                       1101|                           2|                     90003|                          0|                           0|                         0|                        0|    1101| 18_DIRECCION_REG...| ARICA|      18| Región de Arica ...|\n",
      "| 18|      1101|         2|         6|CDTE SAN MARTIN 1...|      294281580|               0|             O|       294281580|                       1101|                           2|                     90003|                          0|                           0|                         0|                        0|    1101| 18_DIRECCION_REG...| ARICA|      18| Región de Arica ...|\n",
      "| 19|      1101|         2|         7|CDTE SAN MARTIN 1...|      294281580|               0|             O|       294281580|                       1101|                           2|                     90003|                          0|                           0|                         0|                        0|    1101| 18_DIRECCION_REG...| ARICA|      18| Región de Arica ...|\n",
      "+---+----------+----------+----------+--------------------+---------------+----------------+--------------+----------------+---------------------------+----------------------------+--------------------------+---------------------------+----------------------------+--------------------------+-------------------------+--------+--------------------+------+--------+--------------------+\n",
      "only showing top 20 rows\n",
      "\n"
     ]
    }
   ],
   "source": [
    "consulta1=\"\"\"\n",
    "SELECT * \n",
    "FROM noagricola_view\n",
    "LEFT JOIN comunas_view\n",
    "ON noagricola_view.cod_comuna = comunas_view.comunaID\n",
    "\"\"\"\n",
    "spark.sql(consulta1).show()\n"
   ]
  },
  {
   "cell_type": "markdown",
   "metadata": {
    "id": "Jas0XXir7xEn"
   },
   "source": [
    "### **CONSULTA 2**"
   ]
  },
  {
   "cell_type": "code",
   "execution_count": 21,
   "metadata": {
    "colab": {
     "base_uri": "https://localhost:8080/"
    },
    "id": "Q_iDAeMj6_dr",
    "outputId": "ee6dc2c7-197f-447c-f4ba-3613f2dfaac9"
   },
   "outputs": [
    {
     "name": "stdout",
     "output_type": "stream",
     "text": [
      "+--------------------+--------------------+\n",
      "|              comuna|         avaluo_prom|\n",
      "+--------------------+--------------------+\n",
      "|             LA CRUZ| 3.013827066226461E7|\n",
      "| SAN FRANCISCO DE...|3.0126888718281362E7|\n",
      "| PEDRO AGUIRRE CERDA|2.5723900547041103E7|\n",
      "|            VITACURA|1.1065284204020809E8|\n",
      "|           SAN RAMÓN|1.9162919797275204E7|\n",
      "|          SAN CARLOS| 2.035748551328663E7|\n",
      "|            EL MONTE|1.9240557146379046E7|\n",
      "|       YERBAS BUENAS| 1.598545327942478E7|\n",
      "|               MAULE| 1.539480882643039E7|\n",
      "|        CONSTITUCIÓN| 2.687341986079378E7|\n",
      "|           GUAITECAS|1.5296534313580247E7|\n",
      "|         MARÍA ELENA| 3.690899762607595E8|\n",
      "|            DALCAHUE|2.0225573274790596E7|\n",
      "|      NUEVA IMPERIAL|1.5902651401137358E7|\n",
      "|             LONGAVÍ|   9600681.800385728|\n",
      "|            QUIRIHUE| 1.014706426350135E7|\n",
      "|            SANTIAGO| 6.036509108545369E7|\n",
      "|             TIL-TIL| 3.971242696186253E7|\n",
      "|            QUINTERO|2.4882578432745825E7|\n",
      "|            VICTORIA| 2.093986141818357E7|\n",
      "+--------------------+--------------------+\n",
      "only showing top 20 rows\n",
      "\n"
     ]
    }
   ],
   "source": [
    "consulta2=\"\"\"\n",
    "SELECT comuna, AVG(avaluo_fisc_tot) as avaluo_prom\n",
    "FROM (noagricola_view LEFT JOIN comunas_view\n",
    "ON noagricola_view.cod_comuna = comunas_view.comunaID) as a\n",
    "GROUP BY comuna\n",
    "SORT BY avaluo_prom desc\n",
    "\"\"\"\n",
    "spark.sql(consulta2).show()\n"
   ]
  },
  {
   "cell_type": "markdown",
   "metadata": {
    "id": "dEsEvSPW759o"
   },
   "source": [
    "### **Consulta 3**"
   ]
  },
  {
   "cell_type": "code",
   "execution_count": 25,
   "metadata": {
    "colab": {
     "base_uri": "https://localhost:8080/"
    },
    "id": "v5RZ38tg78PO",
    "outputId": "d2b8c4bd-1fcf-43e0-c07e-84eb03421875"
   },
   "outputs": [
    {
     "name": "stdout",
     "output_type": "stream",
     "text": [
      "+--------------------+--------------------+\n",
      "|              comuna|         avaluo_prom|\n",
      "+--------------------+--------------------+\n",
      "| SAN FRANCISCO DE...|       3.522562589E9|\n",
      "| PEDRO AGUIRRE CERDA|      3.0666083355E9|\n",
      "|           SAN RAMÓN|    1.08485909455E10|\n",
      "|            VITACURA| 7.340292929986301E9|\n",
      "|          SAN CARLOS|       4.761030846E9|\n",
      "|        CONSTITUCIÓN|       8.087794044E9|\n",
      "|            DALCAHUE|       7.731814976E9|\n",
      "|      NUEVA IMPERIAL|       6.932200681E9|\n",
      "|         MARÍA ELENA| 5.458230836666667E9|\n",
      "|            SANTIAGO| 6.495384648696851E9|\n",
      "|             TIL-TIL|      4.1002523555E9|\n",
      "|            QUINTERO|      4.5867649595E9|\n",
      "|           LO ESPEJO|       3.826050587E9|\n",
      "| SAN PEDRO DE ATA...|    7.073395425375E9|\n",
      "|              COLINA| 6.346843038382716E9|\n",
      "|             ILLAPEL|        3.71679112E9|\n",
      "|              OVALLE|3.9918278986666665E9|\n",
      "|               PINTO|     3.77976999225E9|\n",
      "|             IQUIQUE|      5.8422493196E9|\n",
      "|               ÑUÑOA| 5.510012221956522E9|\n",
      "+--------------------+--------------------+\n",
      "only showing top 20 rows\n",
      "\n"
     ]
    }
   ],
   "source": [
    "# Casas caras sin contribucion\n",
    "consulta3=\"\"\"\n",
    "SELECT comuna, AVG(avaluo_fisc_tot) as avaluo_prom\n",
    "FROM (noagricola_view LEFT JOIN comunas_view\n",
    "ON noagricola_view.cod_comuna = comunas_view.comunaID) as a\n",
    "WHERE avaluo_fisc_tot > 3000000000 AND contri_semestral = 0\n",
    "GROUP BY comuna\n",
    "SORT BY avaluo_prom desc\n",
    "\"\"\"\n",
    "spark.sql(consulta3).show()"
   ]
  }
 ],
 "metadata": {
  "colab": {
   "provenance": []
  },
  "kernelspec": {
   "display_name": "Python 3 (ipykernel)",
   "language": "python",
   "name": "python3"
  },
  "language_info": {
   "codemirror_mode": {
    "name": "ipython",
    "version": 3
   },
   "file_extension": ".py",
   "mimetype": "text/x-python",
   "name": "python",
   "nbconvert_exporter": "python",
   "pygments_lexer": "ipython3",
   "version": "3.11.0"
  }
 },
 "nbformat": 4,
 "nbformat_minor": 1
}
