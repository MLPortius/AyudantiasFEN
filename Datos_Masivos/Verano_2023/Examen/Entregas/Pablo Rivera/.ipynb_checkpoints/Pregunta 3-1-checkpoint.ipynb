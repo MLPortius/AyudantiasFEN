{
 "cells": [
  {
   "cell_type": "markdown",
   "metadata": {
    "id": "uMeawPJitneH"
   },
   "source": [
    "# Pregunta 3 | Ejercicio con Spark SQL \n",
    "## Integrantes: \n",
    "##  Juan Pablo Vergara\n",
    "##  Pablo Rivera\n",
    "\n",
    "Utilizando Apache Spark, las librerías de SparkSQL y el dataset SII_roles_avaluo_table.zip.\n",
    "\n",
    "Escriba 3 nuevas consultas (queries) a la data:\n",
    "\n",
    "* Debe usar a lo menos un Left Join\n",
    "* Debe usar a lo menos un GroupBy\n",
    "* Debe usar un a lo menos Where con dos condiciones\n",
    "* Debe ordenar sus resultados de manera descendiente"
   ]
  },
  {
   "cell_type": "markdown",
   "metadata": {
    "id": "-a2RD28dA_En"
   },
   "source": [
    "# Instalando Spark y sus pre-requisitos"
   ]
  },
  {
   "cell_type": "markdown",
   "metadata": {
    "id": "xKDsaUSS2bnP"
   },
   "source": [
    "Spark y sus prerequisitos no están preinstalados en GoogleColab.\n",
    "Por lo tanto, el primer paso es instalarlos. El principal pre-requisito es java y opcional \n",
    "hadoop."
   ]
  },
  {
   "cell_type": "code",
   "execution_count": null,
   "metadata": {
    "id": "Kz-dMAgW2uKb"
   },
   "outputs": [],
   "source": [
    "!apt-get install openjdk-8-jdk-headless -qq > /dev/null\n",
    "!wget -q http://archive.apache.org/dist/spark/spark-3.1.1/spark-3.1.1-bin-hadoop3.2.tgz\n",
    "!tar xf spark-3.1.1-bin-hadoop3.2.tgz\n",
    "!pip install -q findspark #esta libreria encuentra spark dentro de Colab y le permite usarlo más adelante"
   ]
  },
  {
   "cell_type": "markdown",
   "metadata": {
    "id": "frvy_Gq33FXG"
   },
   "source": [
    "El siguiente paso es definir las variables de entorno"
   ]
  },
  {
   "cell_type": "code",
   "execution_count": null,
   "metadata": {
    "id": "C1P-d7c23EkK"
   },
   "outputs": [],
   "source": [
    "import os\n",
    "os.environ[\"JAVA_HOME\"] = \"/usr/lib/jvm/java-8-openjdk-amd64\"\n",
    "os.environ[\"SPARK_HOME\"] = \"/content/spark-3.1.1-bin-hadoop3.2\""
   ]
  },
  {
   "cell_type": "code",
   "execution_count": null,
   "metadata": {
    "colab": {
     "base_uri": "https://localhost:8080/"
    },
    "executionInfo": {
     "elapsed": 230,
     "status": "ok",
     "timestamp": 1676474976771,
     "user": {
      "displayName": "Pablo Rivera Guzmán",
      "userId": "06637581484591329360"
     },
     "user_tz": 180
    },
    "id": "ofHRb9k-2hja",
    "outputId": "b3dce7ac-b0d9-4666-b53c-fee4d2735c99"
   },
   "outputs": [
    {
     "name": "stdout",
     "output_type": "stream",
     "text": [
      "sample_data  spark-3.1.1-bin-hadoop3.2\tspark-3.1.1-bin-hadoop3.2.tgz\n"
     ]
    }
   ],
   "source": [
    "!ls #podemos listar los archivos instalables que se descargaron"
   ]
  },
  {
   "cell_type": "markdown",
   "metadata": {
    "id": "7s8O6avnz5AI"
   },
   "source": [
    "# Configurando la Sesión y lanzando Spark"
   ]
  },
  {
   "cell_type": "markdown",
   "metadata": {
    "id": "pusHP6pJ3fYc"
   },
   "source": [
    "Podemos comenzar a utilizar spark. Creamos una SparkSession."
   ]
  },
  {
   "cell_type": "code",
   "execution_count": null,
   "metadata": {
    "id": "UjYNbxd-2geK"
   },
   "outputs": [],
   "source": [
    "import findspark\n",
    "findspark.init()\n",
    "from pyspark.sql import SparkSession\n",
    "spark = SparkSession.builder\\\n",
    ".master(\"local[2]\")\\\n",
    ".appName(\"Colab\")\\\n",
    ".config('spark.driver.memory', '10g')\\\n",
    ".config('spark.ui.port', '4040')\\\n",
    ".getOrCreate()"
   ]
  },
  {
   "cell_type": "code",
   "execution_count": null,
   "metadata": {
    "colab": {
     "base_uri": "https://localhost:8080/",
     "height": 53
    },
    "executionInfo": {
     "elapsed": 229,
     "status": "ok",
     "timestamp": 1676474990223,
     "user": {
      "displayName": "Pablo Rivera Guzmán",
      "userId": "06637581484591329360"
     },
     "user_tz": 180
    },
    "id": "FQo64Wd7zkEI",
    "outputId": "e82ebaf5-619a-409b-ea8b-3b57b0eb9242"
   },
   "outputs": [
    {
     "data": {
      "application/vnd.google.colaboratory.intrinsic+json": {
       "type": "string"
      },
      "text/plain": [
       "' ejemplo dynamic allocation of executors :\\nspark.conf.set(\"spark.dynamicAllocation.enabled\", \"true\")\\nspark.conf.set(\"spark.executor.cores\", 4)\\nspark.conf.set(\"spark.dynamicAllocation.minExecutors\",\"1\")\\nspark.conf.set(\"spark.dynamicAllocation.maxExecutors\",\"5\")\\n'"
      ]
     },
     "execution_count": 5,
     "metadata": {},
     "output_type": "execute_result"
    }
   ],
   "source": [
    "\"\"\" ejemplo dynamic allocation of executors :\n",
    "spark.conf.set(\"spark.dynamicAllocation.enabled\", \"true\")\n",
    "spark.conf.set(\"spark.executor.cores\", 4)\n",
    "spark.conf.set(\"spark.dynamicAllocation.minExecutors\",\"1\")\n",
    "spark.conf.set(\"spark.dynamicAllocation.maxExecutors\",\"5\")\n",
    "\"\"\""
   ]
  },
  {
   "cell_type": "code",
   "execution_count": null,
   "metadata": {
    "colab": {
     "base_uri": "https://localhost:8080/",
     "height": 221
    },
    "executionInfo": {
     "elapsed": 263,
     "status": "ok",
     "timestamp": 1676474996731,
     "user": {
      "displayName": "Pablo Rivera Guzmán",
      "userId": "06637581484591329360"
     },
     "user_tz": 180
    },
    "id": "Hd7kqNdp2P5k",
    "outputId": "62c34fc9-2de4-46a9-bb4e-b9d3c17e1dcd"
   },
   "outputs": [
    {
     "data": {
      "text/html": [
       "\n",
       "            <div>\n",
       "                <p><b>SparkSession - in-memory</b></p>\n",
       "                \n",
       "        <div>\n",
       "            <p><b>SparkContext</b></p>\n",
       "\n",
       "            <p><a href=\"http://7265ee854ec8:4040\">Spark UI</a></p>\n",
       "\n",
       "            <dl>\n",
       "              <dt>Version</dt>\n",
       "                <dd><code>v3.1.1</code></dd>\n",
       "              <dt>Master</dt>\n",
       "                <dd><code>local[2]</code></dd>\n",
       "              <dt>AppName</dt>\n",
       "                <dd><code>Colab</code></dd>\n",
       "            </dl>\n",
       "        </div>\n",
       "        \n",
       "            </div>\n",
       "        "
      ],
      "text/plain": [
       "<pyspark.sql.session.SparkSession at 0x7f93667c59a0>"
      ]
     },
     "execution_count": 6,
     "metadata": {},
     "output_type": "execute_result"
    }
   ],
   "source": [
    "spark #hello I'm spark"
   ]
  },
  {
   "cell_type": "markdown",
   "metadata": {
    "id": "maazkGnwxSrf"
   },
   "source": [
    "# Integración de los datos a analizar.\n",
    "\n"
   ]
  },
  {
   "cell_type": "code",
   "execution_count": null,
   "metadata": {
    "colab": {
     "base_uri": "https://localhost:8080/"
    },
    "executionInfo": {
     "elapsed": 7500,
     "status": "ok",
     "timestamp": 1676475813262,
     "user": {
      "displayName": "Pablo Rivera Guzmán",
      "userId": "06637581484591329360"
     },
     "user_tz": 180
    },
    "id": "1ZBxKRhdxD6w",
    "outputId": "c5881bb7-777b-428a-aa9a-5ef43d1343d7"
   },
   "outputs": [
    {
     "name": "stdout",
     "output_type": "stream",
     "text": [
      "--2023-02-15 15:46:41--  https://www.dropbox.com/s/ianxkffu14dp0ru/SII_roles_avaluo_table.zip\n",
      "Resolving www.dropbox.com (www.dropbox.com)... 162.125.6.18, 2620:100:6019:18::a27d:412\n",
      "Connecting to www.dropbox.com (www.dropbox.com)|162.125.6.18|:443... connected.\n",
      "HTTP request sent, awaiting response... 302 Found\n",
      "Location: /s/raw/ianxkffu14dp0ru/SII_roles_avaluo_table.zip [following]\n",
      "--2023-02-15 15:46:42--  https://www.dropbox.com/s/raw/ianxkffu14dp0ru/SII_roles_avaluo_table.zip\n",
      "Reusing existing connection to www.dropbox.com:443.\n",
      "HTTP request sent, awaiting response... 302 Found\n",
      "Location: https://uc8a90913d858340aa10bbeef9e1.dl.dropboxusercontent.com/cd/0/inline/B2idtSim1OV7sTJ4w9Io_v031sX008naEIa5-aalX-Y0R1cXu03FEjGYQBRaYAiIu9TfgweTGS9uz8eQlGAFaU6nJSgEddoGlTgHAksHcm8WZsrp599X8W4AqeYq86GhjlO1awk4h5Yx6pfHg51xS966ynen5QuvFc_SkHWob6ioJw/file# [following]\n",
      "--2023-02-15 15:46:42--  https://uc8a90913d858340aa10bbeef9e1.dl.dropboxusercontent.com/cd/0/inline/B2idtSim1OV7sTJ4w9Io_v031sX008naEIa5-aalX-Y0R1cXu03FEjGYQBRaYAiIu9TfgweTGS9uz8eQlGAFaU6nJSgEddoGlTgHAksHcm8WZsrp599X8W4AqeYq86GhjlO1awk4h5Yx6pfHg51xS966ynen5QuvFc_SkHWob6ioJw/file\n",
      "Resolving uc8a90913d858340aa10bbeef9e1.dl.dropboxusercontent.com (uc8a90913d858340aa10bbeef9e1.dl.dropboxusercontent.com)... 162.125.4.15, 2620:100:601c:15::a27d:60f\n",
      "Connecting to uc8a90913d858340aa10bbeef9e1.dl.dropboxusercontent.com (uc8a90913d858340aa10bbeef9e1.dl.dropboxusercontent.com)|162.125.4.15|:443... connected.\n",
      "HTTP request sent, awaiting response... 302 Found\n",
      "Location: /cd/0/inline2/B2gjazMjDrYAWlXwrAIICSHeJHnx8IXSSPTI9PBzFMoyMN-MxvDNN_s1DTqNXy1YpyRJysLQ7SdVTw6C5c-_3XYVlZlxJ7L3yxbbMQvKQuxe6PUNIYTVeZ4nr_r3eFgw0aLw7YW6U7bnIQd9AlbQzWWONNX0j3bhqhbqDohWKiC3QcFHUwqHoppXkJ_L5TIev9Sajm9ljTj9XHzRr5n72INJBb4lyAXTT-UVJu_YrkY9kp7NWgts9S_-VwHxQ87lSlj05yBU-gSsIq33ciGHXemGjQQQDDnlMPJxVdu5tZXVb4r0RVDzIFrfp9d9Q2EKP5eN41eF1e68_QJkHvSiKPnc9BieKEeEDz4xRnImY1B0e9RFZpomTyw4RuD9L9Y8Iml34TM-J4-NlgVqp_Yus_FJtdqCBbFx_Eyj0O5TwX6dCg/file [following]\n",
      "--2023-02-15 15:46:43--  https://uc8a90913d858340aa10bbeef9e1.dl.dropboxusercontent.com/cd/0/inline2/B2gjazMjDrYAWlXwrAIICSHeJHnx8IXSSPTI9PBzFMoyMN-MxvDNN_s1DTqNXy1YpyRJysLQ7SdVTw6C5c-_3XYVlZlxJ7L3yxbbMQvKQuxe6PUNIYTVeZ4nr_r3eFgw0aLw7YW6U7bnIQd9AlbQzWWONNX0j3bhqhbqDohWKiC3QcFHUwqHoppXkJ_L5TIev9Sajm9ljTj9XHzRr5n72INJBb4lyAXTT-UVJu_YrkY9kp7NWgts9S_-VwHxQ87lSlj05yBU-gSsIq33ciGHXemGjQQQDDnlMPJxVdu5tZXVb4r0RVDzIFrfp9d9Q2EKP5eN41eF1e68_QJkHvSiKPnc9BieKEeEDz4xRnImY1B0e9RFZpomTyw4RuD9L9Y8Iml34TM-J4-NlgVqp_Yus_FJtdqCBbFx_Eyj0O5TwX6dCg/file\n",
      "Reusing existing connection to uc8a90913d858340aa10bbeef9e1.dl.dropboxusercontent.com:443.\n",
      "HTTP request sent, awaiting response... 200 OK\n",
      "Length: 201075932 (192M) [application/zip]\n",
      "Saving to: ‘SII_roles_avaluo_table.zip’\n",
      "\n",
      "SII_roles_avaluo_ta 100%[===================>] 191.76M  37.2MB/s    in 5.2s    \n",
      "\n",
      "2023-02-15 15:46:48 (37.2 MB/s) - ‘SII_roles_avaluo_table.zip’ saved [201075932/201075932]\n",
      "\n"
     ]
    }
   ],
   "source": [
    "!wget https://www.dropbox.com/s/ianxkffu14dp0ru/SII_roles_avaluo_table.zip #archivos tabulares grandes aprox 7 millones de filas"
   ]
  },
  {
   "cell_type": "code",
   "execution_count": null,
   "metadata": {
    "colab": {
     "base_uri": "https://localhost:8080/"
    },
    "executionInfo": {
     "elapsed": 14569,
     "status": "ok",
     "timestamp": 1676475887653,
     "user": {
      "displayName": "Pablo Rivera Guzmán",
      "userId": "06637581484591329360"
     },
     "user_tz": 180
    },
    "id": "pecpJcUoxYj6",
    "outputId": "7b0ff4b6-cdd1-473e-8ba8-3636c51022cd"
   },
   "outputs": [
    {
     "name": "stdout",
     "output_type": "stream",
     "text": [
      "Archive:  SII_roles_avaluo_table.zip\n",
      "  inflating: terreno_constr_no_agri.csv  \n",
      "  inflating: rol_agricola.csv        \n",
      "  inflating: rol_no_agricola.csv     \n",
      "  inflating: cod_comunas.csv         \n"
     ]
    }
   ],
   "source": [
    "!unzip -o SII_roles_avaluo_table.zip"
   ]
  },
  {
   "cell_type": "code",
   "execution_count": null,
   "metadata": {
    "colab": {
     "base_uri": "https://localhost:8080/"
    },
    "executionInfo": {
     "elapsed": 390,
     "status": "ok",
     "timestamp": 1676475891765,
     "user": {
      "displayName": "Pablo Rivera Guzmán",
      "userId": "06637581484591329360"
     },
     "user_tz": 180
    },
    "id": "J3kOh9GMxgGP",
    "outputId": "1b81ae85-debc-48bb-b4ca-760c5e95d771"
   },
   "outputs": [
    {
     "name": "stdout",
     "output_type": "stream",
     "text": [
      "cod_comunas.csv      sample_data\t\t spark-3.1.1-bin-hadoop3.2.tgz\n",
      "rol_agricola.csv     SII_roles_avaluo_table.zip  terreno_constr_no_agri.csv\n",
      "rol_no_agricola.csv  spark-3.1.1-bin-hadoop3.2\n"
     ]
    }
   ],
   "source": [
    "!ls"
   ]
  },
  {
   "cell_type": "markdown",
   "metadata": {
    "id": "6r7UzIwhwmUZ"
   },
   "source": [
    "# Reconocimiento de tablas y datos\n",
    "\n",
    "Como primer paso, vamos a leer los datos de cada csv que los trataremos como tablas independientes, luego mostraremos las columnas de cada tabla."
   ]
  },
  {
   "cell_type": "code",
   "execution_count": null,
   "metadata": {
    "colab": {
     "base_uri": "https://localhost:8080/"
    },
    "executionInfo": {
     "elapsed": 3365,
     "status": "ok",
     "timestamp": 1676479489716,
     "user": {
      "displayName": "Pablo Rivera Guzmán",
      "userId": "06637581484591329360"
     },
     "user_tz": 180
    },
    "id": "AZZTMoPYxj_f",
    "outputId": "42e59d73-9b71-4797-fb57-d04bd08f9bf9"
   },
   "outputs": [
    {
     "name": "stdout",
     "output_type": "stream",
     "text": [
      "root\n",
      " |-- _c0: integer (nullable = true)\n",
      " |-- cod_comuna: integer (nullable = true)\n",
      " |-- nr_manzana: integer (nullable = true)\n",
      " |-- nr_predial: integer (nullable = true)\n",
      " |-- dir/nomb_predio: string (nullable = true)\n",
      " |-- avaluo_fisc_tot: long (nullable = true)\n",
      " |-- contri_semestral: integer (nullable = true)\n",
      " |-- cod_dest_princ: string (nullable = true)\n",
      " |-- avaluo_exen_prop: long (nullable = true)\n",
      "\n",
      "+---+----------+----------+----------+--------------------+---------------+----------------+--------------+----------------+\n",
      "|_c0|cod_comuna|nr_manzana|nr_predial|     dir/nomb_predio|avaluo_fisc_tot|contri_semestral|cod_dest_princ|avaluo_exen_prop|\n",
      "+---+----------+----------+----------+--------------------+---------------+----------------+--------------+----------------+\n",
      "|  0|      1101|       675|         6|LINEA FFCC TAC   ...|       14175739|               0|             A|        14175739|\n",
      "|  1|      1101|       675|        10|SANTA ROSA       ...|     1109356342|         2786914|             A|        24954042|\n",
      "|  2|      1101|       676|         6|CHINCHORRO       ...|      130704724|          271780|             A|        24954042|\n",
      "|  3|      1101|      1001|         6|CERROS LLUTA LTD ...|      345514803|          823842|             B|        24954042|\n",
      "|  4|      1101|      1001|        39|QUEBRADA ENCANTAD...|         164694|               0|             A|          164694|\n",
      "|  5|      1101|      1001|        45|PAMPA SASCAPA PL ...|       12737275|               0|             A|        12737275|\n",
      "|  6|      1101|      2412|       243|ALTO RAMIREZ PL 1...|        3341665|               0|             A|         3341665|\n",
      "|  7|      1101|      3000|         1|STA ROSA HJ 1 Y 2...|      163107502|          355054|             A|        24954042|\n",
      "|  8|      1101|      3000|         2|ALTILLO          ...|      240514904|          553992|             A|        24954042|\n",
      "|  9|      1101|      3000|         3|PARC STA ANGELA K...|      206051786|          465422|             A|        24954042|\n",
      "| 10|      1101|      3000|         4|SAN ANTONIO KM 33...|      419737507|         1014594|             A|        24954042|\n",
      "| 11|      1101|      3000|         5|SACRISTIA KM 31 V...|      119986898|          244234|             A|        24954042|\n",
      "| 12|      1101|      3000|         7|PC.SAN JUAN LT 1 ...|      112923438|          226082|             A|        24954042|\n",
      "| 13|      1101|      3000|         8|ROSARIO VIEJO VAL...|      319645803|          757358|             A|        24954042|\n",
      "| 14|      1101|      3000|         9|TRES HERMANOS KM ...|       97842656|          187324|             A|        24954042|\n",
      "| 15|      1101|      3000|        10|LA OLGA KM 20 V L...|      275946834|          645052|             A|        24954042|\n",
      "| 16|      1101|      3000|        11|PAMPA GALLINAZ   ...|        5751758|               0|             A|         5751758|\n",
      "| 17|      1101|      3000|        12|CAMPOS FISCALE   ...|        5634375|               0|             A|         5634375|\n",
      "| 18|      1101|      3000|        13|LOTE C           ...|        5869141|               0|             A|         5869141|\n",
      "| 19|      1101|      3000|        14|CENTRO IRRADIACIO...|      225262550|               0|             B|       225262550|\n",
      "+---+----------+----------+----------+--------------------+---------------+----------------+--------------+----------------+\n",
      "only showing top 20 rows\n",
      "\n"
     ]
    }
   ],
   "source": [
    "# Tabla agricola_sql\n",
    "agricola_sp = spark.read.csv(\"rol_agricola.csv\",header=True, inferSchema=True)\n",
    "agricola_sp.printSchema() #veamos el esquema de la tabla que se ha creado\n",
    "\n",
    "agricola_sp.show()\n",
    "agricola_sp.createOrReplaceTempView(\"agricola_sql\")"
   ]
  },
  {
   "cell_type": "code",
   "execution_count": null,
   "metadata": {
    "colab": {
     "base_uri": "https://localhost:8080/"
    },
    "executionInfo": {
     "elapsed": 33075,
     "status": "ok",
     "timestamp": 1676479522785,
     "user": {
      "displayName": "Pablo Rivera Guzmán",
      "userId": "06637581484591329360"
     },
     "user_tz": 180
    },
    "id": "oxPtmwKUz0N4",
    "outputId": "041892bc-12b5-4141-deaa-6aea25c3f8bb"
   },
   "outputs": [
    {
     "name": "stdout",
     "output_type": "stream",
     "text": [
      "root\n",
      " |-- _c0: integer (nullable = true)\n",
      " |-- cod_comuna: integer (nullable = true)\n",
      " |-- nr_manzana: integer (nullable = true)\n",
      " |-- nr_predial: integer (nullable = true)\n",
      " |-- dir/nomb_predio: string (nullable = true)\n",
      " |-- avaluo_fisc_tot: long (nullable = true)\n",
      " |-- contri_semestral: integer (nullable = true)\n",
      " |-- cod_dest_princ: string (nullable = true)\n",
      " |-- avaluo_exen_prop: long (nullable = true)\n",
      " |-- cod_comuna_rol_bien_comun_1: integer (nullable = true)\n",
      " |-- nro_manzana_rol_bien_comun_1: integer (nullable = true)\n",
      " |-- nr_predio_rol_bien_comun_1: integer (nullable = true)\n",
      " |-- cod_comuna_rol_bien_comun_2: integer (nullable = true)\n",
      " |-- nro_manzana_rol_bien_comun_2: integer (nullable = true)\n",
      " |-- nr_predio_rol_bien_comun_2: integer (nullable = true)\n",
      " |-- sup_total_terreno_prod_m2: integer (nullable = true)\n",
      "\n",
      "+---+----------+----------+----------+--------------------+---------------+----------------+--------------+----------------+---------------------------+----------------------------+--------------------------+---------------------------+----------------------------+--------------------------+-------------------------+\n",
      "|_c0|cod_comuna|nr_manzana|nr_predial|     dir/nomb_predio|avaluo_fisc_tot|contri_semestral|cod_dest_princ|avaluo_exen_prop|cod_comuna_rol_bien_comun_1|nro_manzana_rol_bien_comun_1|nr_predio_rol_bien_comun_1|cod_comuna_rol_bien_comun_2|nro_manzana_rol_bien_comun_2|nr_predio_rol_bien_comun_2|sup_total_terreno_prod_m2|\n",
      "+---+----------+----------+----------+--------------------+---------------+----------------+--------------+----------------+---------------------------+----------------------------+--------------------------+---------------------------+----------------------------+--------------------------+-------------------------+\n",
      "|  0|      1101|         1|         4|M LIRA 315       ...|      190292739|               0|             O|       190292739|                          0|                           0|                         0|                          0|                           0|                         0|                      926|\n",
      "|  1|      1101|         1|         5|M LIRA 315       ...|       84409669|               0|             O|        84409669|                          0|                           0|                         0|                          0|                           0|                         0|                      566|\n",
      "|  2|      1101|         1|         6|M LIRA 315       ...|       24175492|               0|             O|        24175492|                          0|                           0|                         0|                          0|                           0|                         0|                      126|\n",
      "|  3|      1101|         1|         8|M LIRA S/N TERMIN...|     1163710026|         6476048|             C|               0|                          0|                           0|                         0|                          0|                           0|                         0|                     8025|\n",
      "|  4|      1101|         1|        10|MAXIMO LIRA 389  ...|      466902419|         2598314|             O|               0|                          0|                           0|                         0|                          0|                           0|                         0|                     1588|\n",
      "|  5|      1101|         1|        12|TERMINAL PESQUERO...|       35133104|               0|             C|        35133104|                          0|                           0|                         0|                          0|                           0|                         0|                      211|\n",
      "|  6|      1101|         1|        13|M LIRA S/N EXPL T...|       26082561|          145150|             C|               0|                          0|                           0|                         0|                          0|                           0|                         0|                      157|\n",
      "|  7|      1101|         1|        15|MUELLE PESQUER   ...|       22332610|          124282|             C|               0|                          0|                           0|                         0|                          0|                           0|                         0|                      130|\n",
      "|  8|      1101|         1|        17|M LIRA S/N EXPL T...|       14080594|           98994|             V|               0|                          0|                           0|                         0|                          0|                           0|                         0|                      101|\n",
      "|  9|      1101|         1|        18|M LIRA S/N CONCES...|     2860381387|        15938660|             V|               0|                          0|                           0|                         0|                          0|                           0|                         0|                    10747|\n",
      "| 10|      1101|         1|        19|M.LIRA S/N ARRIEN...|       92898700|          516982|             L|               0|                          0|                           0|                         0|                          0|                           0|                         0|                      800|\n",
      "| 11|      1101|         1|        20|M.LIRA S/N MUELLE...|    12109724064|        67390616|             T|               0|                          0|                           0|                         0|                          0|                           0|                         0|                    74873|\n",
      "| 12|      1101|         1|        21|M LIRA S/N CONCES...|    32080750604|       178529378|             T|               0|                          0|                           0|                         0|                          0|                           0|                         0|                   211195|\n",
      "| 13|      1101|         1|        22|M LIRA S/N MUELLE...|     3175628478|        17672374|             T|               0|                          0|                           0|                         0|                          0|                           0|                         0|                    24006|\n",
      "| 14|      1101|         1|        23|M LIRA S/N EXPL T...|       23654089|               0|             W|        23654089|                          0|                           0|                         0|                          0|                           0|                         0|                      224|\n",
      "| 15|      1101|         2|         3|CDTE SAN MARTIN 1...|     2997192850|               0|             O|      2997192850|                       1101|                           2|                     90003|                          0|                           0|                         0|                        0|\n",
      "| 16|      1101|         2|         4|CDTE SAN MARTIN 1...|      294281580|               0|             O|       294281580|                       1101|                           2|                     90003|                          0|                           0|                         0|                        0|\n",
      "| 17|      1101|         2|         5|CDTE SAN MARTIN 1...|      294281580|         1637678|             O|               0|                       1101|                           2|                     90003|                          0|                           0|                         0|                        0|\n",
      "| 18|      1101|         2|         6|CDTE SAN MARTIN 1...|      294281580|               0|             O|       294281580|                       1101|                           2|                     90003|                          0|                           0|                         0|                        0|\n",
      "| 19|      1101|         2|         7|CDTE SAN MARTIN 1...|      294281580|               0|             O|       294281580|                       1101|                           2|                     90003|                          0|                           0|                         0|                        0|\n",
      "+---+----------+----------+----------+--------------------+---------------+----------------+--------------+----------------+---------------------------+----------------------------+--------------------------+---------------------------+----------------------------+--------------------------+-------------------------+\n",
      "only showing top 20 rows\n",
      "\n"
     ]
    }
   ],
   "source": [
    "# Tabla no_agricola_sql\n",
    "no_agricola_sp = spark.read.csv(\"rol_no_agricola.csv\",header=True, inferSchema=True)\n",
    "no_agricola_sp.printSchema() #veamos el esquema de la tabla que se ha creado\n",
    "\n",
    "no_agricola_sp.show()\n",
    "no_agricola_sp.createOrReplaceTempView(\"noagricola_sql\")"
   ]
  },
  {
   "cell_type": "code",
   "execution_count": null,
   "metadata": {
    "colab": {
     "base_uri": "https://localhost:8080/"
    },
    "executionInfo": {
     "elapsed": 361,
     "status": "ok",
     "timestamp": 1676479523138,
     "user": {
      "displayName": "Pablo Rivera Guzmán",
      "userId": "06637581484591329360"
     },
     "user_tz": 180
    },
    "id": "5Byl8t88z2pf",
    "outputId": "f0cc244d-f81e-4874-9fcc-776a7dcba4d8"
   },
   "outputs": [
    {
     "name": "stdout",
     "output_type": "stream",
     "text": [
      "root\n",
      " |-- comunaID: integer (nullable = true)\n",
      " |-- region: string (nullable = true)\n",
      " |-- comuna: string (nullable = true)\n",
      " |-- n_region: string (nullable = true)\n",
      " |-- name_region: string (nullable = true)\n",
      "\n",
      "+--------+--------------------+--------------------+--------+--------------------+\n",
      "|comunaID|              region|              comuna|n_region|         name_region|\n",
      "+--------+--------------------+--------------------+--------+--------------------+\n",
      "|    1101| 18_DIRECCION_REG...|               ARICA|      18| Regi�n de Arica ...|\n",
      "|    1106| 18_DIRECCION_REG...|           CAMARONES|      18| Regi�n de Arica ...|\n",
      "|    1302| 18_DIRECCION_REG...|       GENERAL LAGOS|      18| Regi�n de Arica ...|\n",
      "|    1301| 18_DIRECCION_REG...|               PUTRE|      18| Regi�n de Arica ...|\n",
      "|    1211| 1_DIRECCION_REGI...|       ALTO HOSPICIO|       1|  Regi�n de Tarapac�|\n",
      "|    1208| 1_DIRECCION_REGI...|              CAMI�A|       1|  Regi�n de Tarapac�|\n",
      "|    1210| 1_DIRECCION_REGI...|            COLCHANE|       1|  Regi�n de Tarapac�|\n",
      "|    1206| 1_DIRECCION_REGI...|               HUARA|       1|  Regi�n de Tarapac�|\n",
      "|    1201| 1_DIRECCION_REGI...|             IQUIQUE|       1|  Regi�n de Tarapac�|\n",
      "|    1203| 1_DIRECCION_REGI...|                PICA|       1|  Regi�n de Tarapac�|\n",
      "|    1204| 1_DIRECCION_REGI...|        POZO ALMONTE|       1|  Regi�n de Tarapac�|\n",
      "|    2201| 2_DIRECCION_REGI...|         ANTOFAGASTA|       2| Regi�n de Antofa...|\n",
      "|    2301| 2_DIRECCION_REGI...|              CALAMA|       2| Regi�n de Antofa...|\n",
      "|    2103| 2_DIRECCION_REGI...|         MAR�A ELENA|       2| Regi�n de Antofa...|\n",
      "|    2203| 2_DIRECCION_REGI...|          MEJILLONES|       2| Regi�n de Antofa...|\n",
      "|    2302| 2_DIRECCION_REGI...|             OLLAG�E|       2| Regi�n de Antofa...|\n",
      "|    2303| 2_DIRECCION_REGI...| SAN PEDRO DE ATA...|       2| Regi�n de Antofa...|\n",
      "|    2206| 2_DIRECCION_REGI...|        SIERRA GORDA|       2| Regi�n de Antofa...|\n",
      "|    2202| 2_DIRECCION_REGI...|              TALTAL|       2| Regi�n de Antofa...|\n",
      "|    2101| 2_DIRECCION_REGI...|           TOCOPILLA|       2| Regi�n de Antofa...|\n",
      "+--------+--------------------+--------------------+--------+--------------------+\n",
      "only showing top 20 rows\n",
      "\n"
     ]
    }
   ],
   "source": [
    "# Tabla comunas_sql\n",
    "comunas_sp = spark.read.csv(\"cod_comunas.csv\",header=True, inferSchema=True)\n",
    "comunas_sp.printSchema() #veamos el esquema de la tabla que se ha creado\n",
    "\n",
    "comunas_sp.show()\n",
    "comunas_sp.createOrReplaceTempView(\"comunas_sql\")"
   ]
  },
  {
   "cell_type": "code",
   "execution_count": null,
   "metadata": {
    "colab": {
     "base_uri": "https://localhost:8080/"
    },
    "executionInfo": {
     "elapsed": 24558,
     "status": "ok",
     "timestamp": 1676479547694,
     "user": {
      "displayName": "Pablo Rivera Guzmán",
      "userId": "06637581484591329360"
     },
     "user_tz": 180
    },
    "id": "kAQ_V_6oz5O-",
    "outputId": "c54b85ae-5f89-49cc-c8fe-1941b5178fb7"
   },
   "outputs": [
    {
     "name": "stdout",
     "output_type": "stream",
     "text": [
      "root\n",
      " |-- _c0: integer (nullable = true)\n",
      " |-- cod_comuna: integer (nullable = true)\n",
      " |-- nr_manzana: integer (nullable = true)\n",
      " |-- nr_predial: integer (nullable = true)\n",
      " |-- corr_lin_prod: integer (nullable = true)\n",
      " |-- cod_material_estruc_const: string (nullable = true)\n",
      " |-- cod_calidad_linea_const: integer (nullable = true)\n",
      " |-- anio_linea_constr: integer (nullable = true)\n",
      " |-- sup_linea_constr_m2/m3: integer (nullable = true)\n",
      " |-- cod_dest_linea_constr: string (nullable = true)\n",
      " |-- cod_cond_especial_linea_constr: string (nullable = true)\n",
      "\n",
      "+---+----------+----------+----------+-------------+-------------------------+-----------------------+-----------------+----------------------+---------------------+------------------------------+\n",
      "|_c0|cod_comuna|nr_manzana|nr_predial|corr_lin_prod|cod_material_estruc_const|cod_calidad_linea_const|anio_linea_constr|sup_linea_constr_m2/m3|cod_dest_linea_constr|cod_cond_especial_linea_constr|\n",
      "+---+----------+----------+----------+-------------+-------------------------+-----------------------+-----------------+----------------------+---------------------+------------------------------+\n",
      "|  0|      1101|         1|         4|            1|                       B |                      4|             1925|                   631|                    O|                          null|\n",
      "|  1|      1101|         1|         4|            2|                       E |                      3|             1925|                   201|                    O|                          null|\n",
      "|  2|      1101|         1|         4|            3|                       C |                      3|             1925|                    91|                    O|                          null|\n",
      "|  3|      1101|         1|         5|            1|                       B |                      4|             1925|                   213|                    O|                          null|\n",
      "|  4|      1101|         1|         5|            2|                       GB|                      2|             1925|                    13|                    V|                          null|\n",
      "|  5|      1101|         1|         6|            1|                       B |                      4|             1925|                    69|                    O|                          null|\n",
      "|  6|      1101|         1|         6|            2|                       E |                      3|             1925|                    57|                    O|                          null|\n",
      "|  7|      1101|         1|         8|            1|                       C |                      3|             1973|                   255|                    C|                          null|\n",
      "|  8|      1101|         1|         8|            2|                       C |                      4|             1973|                   252|                    L|                          null|\n",
      "|  9|      1101|         1|         8|            3|                       GA|                      3|             1973|                   128|                    L|                          null|\n",
      "| 10|      1101|         1|         8|            4|                       C |                      4|             1973|                   402|                    O|                          null|\n",
      "| 11|      1101|         1|         8|            5|                       C |                      4|             1973|                   158|                    L|                          null|\n",
      "| 12|      1101|         1|         8|            6|                       E |                      4|             1973|                    81|                    C|                          null|\n",
      "| 13|      1101|         1|         8|            7|                       E |                      5|             1973|                   121|                    L|                          null|\n",
      "| 14|      1101|         1|         8|            8|                       GA|                      2|             1973|                   300|                    I|                          null|\n",
      "| 15|      1101|         1|         8|            9|                       GA|                      2|             1973|                   360|                    V|                          null|\n",
      "| 16|      1101|         1|         8|           10|                       C |                      5|             1973|                   454|                    V|                          null|\n",
      "| 17|      1101|         1|         8|           11|                       GE|                      3|             1973|                   281|                    C|                          null|\n",
      "| 18|      1101|         1|        10|            1|                       B |                      3|             1990|                    83|                    O|                            SC|\n",
      "| 19|      1101|         1|        10|            2|                       B |                      3|             1990|                    46|                    O|                            CA|\n",
      "+---+----------+----------+----------+-------------+-------------------------+-----------------------+-----------------+----------------------+---------------------+------------------------------+\n",
      "only showing top 20 rows\n",
      "\n"
     ]
    }
   ],
   "source": [
    "# Tabla terreno_sql\n",
    "terrenos_sp = spark.read.csv(\"terreno_constr_no_agri.csv\",header=True, inferSchema=True)\n",
    "terrenos_sp.printSchema() #veamos el esquema de la tabla que se ha creado\n",
    "\n",
    "terrenos_sp.show()\n",
    "terrenos_sp.createOrReplaceTempView(\"terreno_sql\")"
   ]
  },
  {
   "cell_type": "markdown",
   "metadata": {
    "id": "MDHcrDrK0Fhx"
   },
   "source": [
    "# Consultas generadas"
   ]
  },
  {
   "cell_type": "markdown",
   "metadata": {
    "id": "sdjOdSfm_sUT"
   },
   "source": [
    "### Query 1\n",
    "\n",
    "Obtendremos el máximo avalúo fiscal de las propiedades agricolas de las regiones de Valparaíso y de los Ríos, ordenados de mayor a menor."
   ]
  },
  {
   "cell_type": "code",
   "execution_count": null,
   "metadata": {
    "colab": {
     "base_uri": "https://localhost:8080/"
    },
    "executionInfo": {
     "elapsed": 3187,
     "status": "ok",
     "timestamp": 1676480383165,
     "user": {
      "displayName": "Pablo Rivera Guzmán",
      "userId": "06637581484591329360"
     },
     "user_tz": 180
    },
    "id": "c9R9Ajsv4-w3",
    "outputId": "6e047b21-b811-4118-bcad-d008909b8446"
   },
   "outputs": [
    {
     "name": "stdout",
     "output_type": "stream",
     "text": [
      "+--------------------+----------------+\n",
      "|       nombre_region|valor_max_fiscal|\n",
      "+--------------------+----------------+\n",
      "|  Regi�n de Los R�os|     28942461532|\n",
      "| Regi�n de Valpar...|     14865968481|\n",
      "+--------------------+----------------+\n",
      "\n"
     ]
    }
   ],
   "source": [
    "query_1=\"\"\"\n",
    "SELECT \n",
    "  c.name_region AS nombre_region, \n",
    "  MAX(a.avaluo_fisc_tot) AS valor_max_fiscal\n",
    "FROM agricola_sql AS a\n",
    "  LEFT JOIN comunas_sql AS c ON a.cod_comuna = c.comunaID\n",
    "WHERE c.n_region = 17\n",
    "   OR c.n_region = 5\n",
    "GROUP BY c.name_region\n",
    "ORDER BY valor_max_fiscal DESC\n",
    "\n",
    "\"\"\"\n",
    "\n",
    "query_sql1=spark.sql(query_1)\n",
    "query_sql1.show()"
   ]
  },
  {
   "cell_type": "markdown",
   "metadata": {
    "id": "McY-9ECIDBnu"
   },
   "source": [
    "### Query 2\n",
    "\n",
    "Obtendremos el avalúo fiscal promedio para las propiedades no agricolas por todas las comunas de Valparaíso."
   ]
  },
  {
   "cell_type": "code",
   "execution_count": null,
   "metadata": {
    "colab": {
     "base_uri": "https://localhost:8080/"
    },
    "executionInfo": {
     "elapsed": 20018,
     "status": "ok",
     "timestamp": 1676481629976,
     "user": {
      "displayName": "Pablo Rivera Guzmán",
      "userId": "06637581484591329360"
     },
     "user_tz": 180
    },
    "id": "4z5cC73rEFz6",
    "outputId": "b6e0181b-5c49-4c1a-ff94-af0e0866cfca"
   },
   "outputs": [
    {
     "name": "stdout",
     "output_type": "stream",
     "text": [
      "+---------------+--------------------+\n",
      "|  nombre_comuna|    valor_avg_fiscal|\n",
      "+---------------+--------------------+\n",
      "|       ZAPALLAR|1.6468354831192562E8|\n",
      "|  SANTO DOMINGO| 8.036304113064304E7|\n",
      "| ISLA DE PASCUA|      7.9368098175E7|\n",
      "|     PUCHUNCAV�| 5.639852307104892E7|\n",
      "|         CONC�N| 5.468029806377962E7|\n",
      "|   VI�A DEL MAR|  5.32577612924935E7|\n",
      "|         PAPUDO| 4.913730374606885E7|\n",
      "|      ALGARROBO|  4.89688780155883E7|\n",
      "|     VALPARAISO| 3.949938266179606E7|\n",
      "|          OLMU�| 3.844622561605317E7|\n",
      "|     CASABLANCA| 3.827257955724271E7|\n",
      "|      LOS ANDES|   3.7598997405214E7|\n",
      "|      RINCONADA| 3.697357294415095E7|\n",
      "|    SAN ANTONIO| 3.373619155301603E7|\n",
      "|        QUILPU�|3.2612330935272418E7|\n",
      "|     SAN FELIPE|3.0288800075232662E7|\n",
      "|        LA CRUZ| 3.013827066226461E7|\n",
      "|  VILLA ALEMANA| 2.883784316905096E7|\n",
      "|        LIMACHE|2.8364474881618354E7|\n",
      "|       QUILLOTA| 2.746447713090997E7|\n",
      "+---------------+--------------------+\n",
      "only showing top 20 rows\n",
      "\n"
     ]
    }
   ],
   "source": [
    "query_2=\"\"\"\n",
    "SELECT \n",
    "  c.comuna AS nombre_comuna, \n",
    "  AVG(a.avaluo_fisc_tot) AS valor_avg_fiscal\n",
    "FROM noagricola_sql AS a\n",
    "  LEFT JOIN comunas_sql AS c ON a.cod_comuna = c.comunaID\n",
    "WHERE c.n_region = 5\n",
    "GROUP BY c.comuna\n",
    "ORDER BY valor_avg_fiscal DESC\n",
    "\"\"\"\n",
    "\n",
    "query_sql2=spark.sql(query_2)\n",
    "query_sql2.show()"
   ]
  },
  {
   "cell_type": "markdown",
   "metadata": {
    "id": "1rl23_szGFkZ"
   },
   "source": [
    "### Query 3\n",
    "\n",
    "Obtendremos la cantidad de propiedades agricolas por comuna y promedio de avalúo fiscal de propiedades que superen los 100 millones."
   ]
  },
  {
   "cell_type": "code",
   "execution_count": null,
   "metadata": {
    "colab": {
     "base_uri": "https://localhost:8080/"
    },
    "executionInfo": {
     "elapsed": 5427,
     "status": "ok",
     "timestamp": 1676482032390,
     "user": {
      "displayName": "Pablo Rivera Guzmán",
      "userId": "06637581484591329360"
     },
     "user_tz": 180
    },
    "id": "0G5MzvH9GaKP",
    "outputId": "35377bf7-4133-49da-a5d7-57bd51c52c52"
   },
   "outputs": [
    {
     "name": "stdout",
     "output_type": "stream",
     "text": [
      "+-------------+----------------+--------------------+\n",
      "|nombre_comuna|cant_propiedades|    valor_avg_fiscal|\n",
      "+-------------+----------------+--------------------+\n",
      "|    MELIPILLA|            1318|2.7628026003945374E8|\n",
      "|        PAINE|            1087|2.3199953353817847E8|\n",
      "|  LOS ANGELES|             986| 2.686425014046653E8|\n",
      "|    R�O BUENO|             936| 3.292889885106838E8|\n",
      "| SAN CLEMENTE|             899| 2.443680459432703E8|\n",
      "|  CHIMBARONGO|             865|2.1550263100462428E8|\n",
      "|     VICTORIA|             795|2.9668297140503144E8|\n",
      "|         BUIN|             778|2.7734190516195375E8|\n",
      "|       OSORNO|             768| 3.209967003463542E8|\n",
      "|      MULCH�N|             762| 3.903994546614173E8|\n",
      "|    PURRANQUE|             716| 3.399793402709497E8|\n",
      "|     LA UNI�N|             713|  3.39343240657784E8|\n",
      "|    R�O NEGRO|             692| 3.129422919768786E8|\n",
      "|         TENO|             687|2.0771811758224162E8|\n",
      "|       VILC�N|             626| 2.903171045942492E8|\n",
      "|   SAN CARLOS|             580|2.4823583777931035E8|\n",
      "|      PUYEHUE|             544|3.1330847569485295E8|\n",
      "|   COLLIPULLI|             518|4.1119453374903476E8|\n",
      "|       CURIC�|             516|2.5183065709496123E8|\n",
      "|     COIHUECO|             514| 3.712285644844358E8|\n",
      "+-------------+----------------+--------------------+\n",
      "only showing top 20 rows\n",
      "\n"
     ]
    }
   ],
   "source": [
    "query_3=\"\"\"\n",
    "SELECT \n",
    "  c.comuna AS nombre_comuna, \n",
    "  COUNT(a.*) AS cant_propiedades,\n",
    "  AVG(a.avaluo_fisc_tot) AS valor_avg_fiscal\n",
    "FROM agricola_sql AS a\n",
    "  LEFT JOIN comunas_sql AS c ON a.cod_comuna = c.comunaID\n",
    "WHERE a.avaluo_fisc_tot >= 100000000\n",
    "GROUP BY c.comuna\n",
    "ORDER BY cant_propiedades DESC\n",
    "\"\"\"\n",
    "\n",
    "query_sql3=spark.sql(query_3)\n",
    "query_sql3.show()"
   ]
  }
 ],
 "metadata": {
  "colab": {
   "provenance": [
    {
     "file_id": "1_xUVTHZ9Y2ChBY5HzzbOR183kWTUaxON",
     "timestamp": 1676474781103
    }
   ]
  },
  "kernelspec": {
   "display_name": "Python 3 (ipykernel)",
   "language": "python",
   "name": "python3"
  },
  "language_info": {
   "codemirror_mode": {
    "name": "ipython",
    "version": 3
   },
   "file_extension": ".py",
   "mimetype": "text/x-python",
   "name": "python",
   "nbconvert_exporter": "python",
   "pygments_lexer": "ipython3",
   "version": "3.11.0"
  }
 },
 "nbformat": 4,
 "nbformat_minor": 1
}
